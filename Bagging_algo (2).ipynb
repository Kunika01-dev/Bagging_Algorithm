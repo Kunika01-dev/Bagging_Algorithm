{
 "cells": [
  {
   "cell_type": "markdown",
   "metadata": {
    "id": "9PU0dNHhHWXb"
   },
   "source": [
    "## <center><u>Bagging and Random Forest Ensemble algorithms</u></center>\n"
   ]
  },
  {
   "cell_type": "markdown",
   "metadata": {
    "id": "jxDsiXePHWXg"
   },
   "source": [
    "### **`1. Data Understanding and Cleaning`**\n"
   ]
  },
  {
   "cell_type": "code",
   "execution_count": null,
   "metadata": {
    "id": "WySYhhaOHWXg"
   },
   "outputs": [],
   "source": [
    "# Importing the required libraries\n",
    "import pandas as pd\n",
    "import numpy as np\n",
    "import matplotlib.pyplot as plt\n",
    "import seaborn as sns\n",
    "%matplotlib inline\n",
    "\n",
    "# To ignore warnings\n",
    "import warnings\n",
    "\n",
    "warnings.filterwarnings(\"ignore\")"
   ]
  },
  {
   "cell_type": "code",
   "execution_count": 4,
   "metadata": {
    "colab": {
     "base_uri": "https://localhost:8080/",
     "height": 279
    },
    "id": "6fUdHzOkHWXh",
    "outputId": "d23d67a0-781f-498f-b2e4-951452f3d23c"
   },
   "outputs": [
    {
     "data": {
      "text/html": [
       "\n",
       "  <div id=\"df-7234b714-8b8f-4d1e-8b65-684f62045e06\">\n",
       "    <div class=\"colab-df-container\">\n",
       "      <div>\n",
       "<style scoped>\n",
       "    .dataframe tbody tr th:only-of-type {\n",
       "        vertical-align: middle;\n",
       "    }\n",
       "\n",
       "    .dataframe tbody tr th {\n",
       "        vertical-align: top;\n",
       "    }\n",
       "\n",
       "    .dataframe thead th {\n",
       "        text-align: right;\n",
       "    }\n",
       "</style>\n",
       "<table border=\"1\" class=\"dataframe\">\n",
       "  <thead>\n",
       "    <tr style=\"text-align: right;\">\n",
       "      <th></th>\n",
       "      <th>ID</th>\n",
       "      <th>LIMIT_BAL</th>\n",
       "      <th>SEX</th>\n",
       "      <th>EDUCATION</th>\n",
       "      <th>MARRIAGE</th>\n",
       "      <th>AGE</th>\n",
       "      <th>PAY_0</th>\n",
       "      <th>PAY_2</th>\n",
       "      <th>PAY_3</th>\n",
       "      <th>PAY_4</th>\n",
       "      <th>...</th>\n",
       "      <th>BILL_AMT4</th>\n",
       "      <th>BILL_AMT5</th>\n",
       "      <th>BILL_AMT6</th>\n",
       "      <th>PAY_AMT1</th>\n",
       "      <th>PAY_AMT2</th>\n",
       "      <th>PAY_AMT3</th>\n",
       "      <th>PAY_AMT4</th>\n",
       "      <th>PAY_AMT5</th>\n",
       "      <th>PAY_AMT6</th>\n",
       "      <th>defaulted</th>\n",
       "    </tr>\n",
       "  </thead>\n",
       "  <tbody>\n",
       "    <tr>\n",
       "      <th>0</th>\n",
       "      <td>1</td>\n",
       "      <td>20000</td>\n",
       "      <td>2</td>\n",
       "      <td>2</td>\n",
       "      <td>1</td>\n",
       "      <td>24</td>\n",
       "      <td>2</td>\n",
       "      <td>2</td>\n",
       "      <td>-1</td>\n",
       "      <td>-1</td>\n",
       "      <td>...</td>\n",
       "      <td>0</td>\n",
       "      <td>0</td>\n",
       "      <td>0</td>\n",
       "      <td>0</td>\n",
       "      <td>689</td>\n",
       "      <td>0</td>\n",
       "      <td>0</td>\n",
       "      <td>0</td>\n",
       "      <td>0</td>\n",
       "      <td>1</td>\n",
       "    </tr>\n",
       "    <tr>\n",
       "      <th>1</th>\n",
       "      <td>2</td>\n",
       "      <td>120000</td>\n",
       "      <td>2</td>\n",
       "      <td>2</td>\n",
       "      <td>2</td>\n",
       "      <td>26</td>\n",
       "      <td>-1</td>\n",
       "      <td>2</td>\n",
       "      <td>0</td>\n",
       "      <td>0</td>\n",
       "      <td>...</td>\n",
       "      <td>3272</td>\n",
       "      <td>3455</td>\n",
       "      <td>3261</td>\n",
       "      <td>0</td>\n",
       "      <td>1000</td>\n",
       "      <td>1000</td>\n",
       "      <td>1000</td>\n",
       "      <td>0</td>\n",
       "      <td>2000</td>\n",
       "      <td>1</td>\n",
       "    </tr>\n",
       "    <tr>\n",
       "      <th>2</th>\n",
       "      <td>3</td>\n",
       "      <td>90000</td>\n",
       "      <td>2</td>\n",
       "      <td>2</td>\n",
       "      <td>2</td>\n",
       "      <td>34</td>\n",
       "      <td>0</td>\n",
       "      <td>0</td>\n",
       "      <td>0</td>\n",
       "      <td>0</td>\n",
       "      <td>...</td>\n",
       "      <td>14331</td>\n",
       "      <td>14948</td>\n",
       "      <td>15549</td>\n",
       "      <td>1518</td>\n",
       "      <td>1500</td>\n",
       "      <td>1000</td>\n",
       "      <td>1000</td>\n",
       "      <td>1000</td>\n",
       "      <td>5000</td>\n",
       "      <td>0</td>\n",
       "    </tr>\n",
       "    <tr>\n",
       "      <th>3</th>\n",
       "      <td>4</td>\n",
       "      <td>50000</td>\n",
       "      <td>2</td>\n",
       "      <td>2</td>\n",
       "      <td>1</td>\n",
       "      <td>37</td>\n",
       "      <td>0</td>\n",
       "      <td>0</td>\n",
       "      <td>0</td>\n",
       "      <td>0</td>\n",
       "      <td>...</td>\n",
       "      <td>28314</td>\n",
       "      <td>28959</td>\n",
       "      <td>29547</td>\n",
       "      <td>2000</td>\n",
       "      <td>2019</td>\n",
       "      <td>1200</td>\n",
       "      <td>1100</td>\n",
       "      <td>1069</td>\n",
       "      <td>1000</td>\n",
       "      <td>0</td>\n",
       "    </tr>\n",
       "    <tr>\n",
       "      <th>4</th>\n",
       "      <td>5</td>\n",
       "      <td>50000</td>\n",
       "      <td>1</td>\n",
       "      <td>2</td>\n",
       "      <td>1</td>\n",
       "      <td>57</td>\n",
       "      <td>-1</td>\n",
       "      <td>0</td>\n",
       "      <td>-1</td>\n",
       "      <td>0</td>\n",
       "      <td>...</td>\n",
       "      <td>20940</td>\n",
       "      <td>19146</td>\n",
       "      <td>19131</td>\n",
       "      <td>2000</td>\n",
       "      <td>36681</td>\n",
       "      <td>10000</td>\n",
       "      <td>9000</td>\n",
       "      <td>689</td>\n",
       "      <td>679</td>\n",
       "      <td>0</td>\n",
       "    </tr>\n",
       "  </tbody>\n",
       "</table>\n",
       "<p>5 rows × 25 columns</p>\n",
       "</div>\n",
       "      <button class=\"colab-df-convert\" onclick=\"convertToInteractive('df-7234b714-8b8f-4d1e-8b65-684f62045e06')\"\n",
       "              title=\"Convert this dataframe to an interactive table.\"\n",
       "              style=\"display:none;\">\n",
       "        \n",
       "  <svg xmlns=\"http://www.w3.org/2000/svg\" height=\"24px\"viewBox=\"0 0 24 24\"\n",
       "       width=\"24px\">\n",
       "    <path d=\"M0 0h24v24H0V0z\" fill=\"none\"/>\n",
       "    <path d=\"M18.56 5.44l.94 2.06.94-2.06 2.06-.94-2.06-.94-.94-2.06-.94 2.06-2.06.94zm-11 1L8.5 8.5l.94-2.06 2.06-.94-2.06-.94L8.5 2.5l-.94 2.06-2.06.94zm10 10l.94 2.06.94-2.06 2.06-.94-2.06-.94-.94-2.06-.94 2.06-2.06.94z\"/><path d=\"M17.41 7.96l-1.37-1.37c-.4-.4-.92-.59-1.43-.59-.52 0-1.04.2-1.43.59L10.3 9.45l-7.72 7.72c-.78.78-.78 2.05 0 2.83L4 21.41c.39.39.9.59 1.41.59.51 0 1.02-.2 1.41-.59l7.78-7.78 2.81-2.81c.8-.78.8-2.07 0-2.86zM5.41 20L4 18.59l7.72-7.72 1.47 1.35L5.41 20z\"/>\n",
       "  </svg>\n",
       "      </button>\n",
       "      \n",
       "  <style>\n",
       "    .colab-df-container {\n",
       "      display:flex;\n",
       "      flex-wrap:wrap;\n",
       "      gap: 12px;\n",
       "    }\n",
       "\n",
       "    .colab-df-convert {\n",
       "      background-color: #E8F0FE;\n",
       "      border: none;\n",
       "      border-radius: 50%;\n",
       "      cursor: pointer;\n",
       "      display: none;\n",
       "      fill: #1967D2;\n",
       "      height: 32px;\n",
       "      padding: 0 0 0 0;\n",
       "      width: 32px;\n",
       "    }\n",
       "\n",
       "    .colab-df-convert:hover {\n",
       "      background-color: #E2EBFA;\n",
       "      box-shadow: 0px 1px 2px rgba(60, 64, 67, 0.3), 0px 1px 3px 1px rgba(60, 64, 67, 0.15);\n",
       "      fill: #174EA6;\n",
       "    }\n",
       "\n",
       "    [theme=dark] .colab-df-convert {\n",
       "      background-color: #3B4455;\n",
       "      fill: #D2E3FC;\n",
       "    }\n",
       "\n",
       "    [theme=dark] .colab-df-convert:hover {\n",
       "      background-color: #434B5C;\n",
       "      box-shadow: 0px 1px 3px 1px rgba(0, 0, 0, 0.15);\n",
       "      filter: drop-shadow(0px 1px 2px rgba(0, 0, 0, 0.3));\n",
       "      fill: #FFFFFF;\n",
       "    }\n",
       "  </style>\n",
       "\n",
       "      <script>\n",
       "        const buttonEl =\n",
       "          document.querySelector('#df-7234b714-8b8f-4d1e-8b65-684f62045e06 button.colab-df-convert');\n",
       "        buttonEl.style.display =\n",
       "          google.colab.kernel.accessAllowed ? 'block' : 'none';\n",
       "\n",
       "        async function convertToInteractive(key) {\n",
       "          const element = document.querySelector('#df-7234b714-8b8f-4d1e-8b65-684f62045e06');\n",
       "          const dataTable =\n",
       "            await google.colab.kernel.invokeFunction('convertToInteractive',\n",
       "                                                     [key], {});\n",
       "          if (!dataTable) return;\n",
       "\n",
       "          const docLinkHtml = 'Like what you see? Visit the ' +\n",
       "            '<a target=\"_blank\" href=https://colab.research.google.com/notebooks/data_table.ipynb>data table notebook</a>'\n",
       "            + ' to learn more about interactive tables.';\n",
       "          element.innerHTML = '';\n",
       "          dataTable['output_type'] = 'display_data';\n",
       "          await google.colab.output.renderOutput(dataTable, element);\n",
       "          const docLink = document.createElement('div');\n",
       "          docLink.innerHTML = docLinkHtml;\n",
       "          element.appendChild(docLink);\n",
       "        }\n",
       "      </script>\n",
       "    </div>\n",
       "  </div>\n",
       "  "
      ],
      "text/plain": [
       "   ID  LIMIT_BAL  SEX  EDUCATION  MARRIAGE  AGE  PAY_0  PAY_2  PAY_3  PAY_4  \\\n",
       "0   1      20000    2          2         1   24      2      2     -1     -1   \n",
       "1   2     120000    2          2         2   26     -1      2      0      0   \n",
       "2   3      90000    2          2         2   34      0      0      0      0   \n",
       "3   4      50000    2          2         1   37      0      0      0      0   \n",
       "4   5      50000    1          2         1   57     -1      0     -1      0   \n",
       "\n",
       "   ...  BILL_AMT4  BILL_AMT5  BILL_AMT6  PAY_AMT1  PAY_AMT2  PAY_AMT3  \\\n",
       "0  ...          0          0          0         0       689         0   \n",
       "1  ...       3272       3455       3261         0      1000      1000   \n",
       "2  ...      14331      14948      15549      1518      1500      1000   \n",
       "3  ...      28314      28959      29547      2000      2019      1200   \n",
       "4  ...      20940      19146      19131      2000     36681     10000   \n",
       "\n",
       "   PAY_AMT4  PAY_AMT5  PAY_AMT6  defaulted  \n",
       "0         0         0         0          1  \n",
       "1      1000         0      2000          1  \n",
       "2      1000      1000      5000          0  \n",
       "3      1100      1069      1000          0  \n",
       "4      9000       689       679          0  \n",
       "\n",
       "[5 rows x 25 columns]"
      ]
     },
     "execution_count": 4,
     "metadata": {},
     "output_type": "execute_result"
    }
   ],
   "source": [
    "# Reading the csv file and putting it into 'df' object.\n",
    "df =pd.read_csv('/content/credit-card-default.csv') \n",
    "\n",
    "# print head\n",
    "df.head()\n",
    "\n"
   ]
  },
  {
   "cell_type": "code",
   "execution_count": null,
   "metadata": {
    "id": "FzCe3m1cHWXi",
    "outputId": "af6a46c0-5890-40a9-ca42-9344d2604591"
   },
   "outputs": [
    {
     "name": "stdout",
     "output_type": "stream",
     "text": [
      "<class 'pandas.core.frame.DataFrame'>\n",
      "RangeIndex: 30000 entries, 0 to 29999\n",
      "Data columns (total 25 columns):\n",
      " #   Column     Non-Null Count  Dtype\n",
      "---  ------     --------------  -----\n",
      " 0   ID         30000 non-null  int64\n",
      " 1   LIMIT_BAL  30000 non-null  int64\n",
      " 2   SEX        30000 non-null  int64\n",
      " 3   EDUCATION  30000 non-null  int64\n",
      " 4   MARRIAGE   30000 non-null  int64\n",
      " 5   AGE        30000 non-null  int64\n",
      " 6   PAY_0      30000 non-null  int64\n",
      " 7   PAY_2      30000 non-null  int64\n",
      " 8   PAY_3      30000 non-null  int64\n",
      " 9   PAY_4      30000 non-null  int64\n",
      " 10  PAY_5      30000 non-null  int64\n",
      " 11  PAY_6      30000 non-null  int64\n",
      " 12  BILL_AMT1  30000 non-null  int64\n",
      " 13  BILL_AMT2  30000 non-null  int64\n",
      " 14  BILL_AMT3  30000 non-null  int64\n",
      " 15  BILL_AMT4  30000 non-null  int64\n",
      " 16  BILL_AMT5  30000 non-null  int64\n",
      " 17  BILL_AMT6  30000 non-null  int64\n",
      " 18  PAY_AMT1   30000 non-null  int64\n",
      " 19  PAY_AMT2   30000 non-null  int64\n",
      " 20  PAY_AMT3   30000 non-null  int64\n",
      " 21  PAY_AMT4   30000 non-null  int64\n",
      " 22  PAY_AMT5   30000 non-null  int64\n",
      " 23  PAY_AMT6   30000 non-null  int64\n",
      " 24  defaulted  30000 non-null  int64\n",
      "dtypes: int64(25)\n",
      "memory usage: 5.7 MB\n"
     ]
    }
   ],
   "source": [
    "# Let's understand the type of columns\n",
    "df.info()\n",
    "\n",
    "\n"
   ]
  },
  {
   "cell_type": "markdown",
   "metadata": {
    "id": "ZXyos7_UHWXi"
   },
   "source": [
    "In this case, we know that there are no major data quality issues, so we'll go ahead and build the model."
   ]
  },
  {
   "cell_type": "markdown",
   "metadata": {
    "id": "C-v9HZ25HWXj"
   },
   "source": [
    "### **`2. Data Preparation and Model Building`**\n",
    "\n",
    "\n"
   ]
  },
  {
   "cell_type": "code",
   "execution_count": 5,
   "metadata": {
    "id": "mYnCm_PDHWXj"
   },
   "outputs": [],
   "source": [
    "# Importing test_train_split from sklearn library\n",
    "\n",
    "from sklearn.model_selection import train_test_split\n",
    "\n"
   ]
  },
  {
   "cell_type": "code",
   "execution_count": 6,
   "metadata": {
    "id": "Owwx9pJBHWXk"
   },
   "outputs": [],
   "source": [
    "# Putting feature variable to X\n",
    "X =df.drop('defaulted',axis=1)\n",
    "\n",
    "\n",
    "# Putting response variable to y\n",
    "y = df['defaulted']\n",
    "\n",
    "\n",
    "\n",
    "# Splitting the data into train and test with test size as 30% and random state as 101\n",
    "X_train, X_test, y_train, y_test = train_test_split(X,y,test_size=0.3,random_state=101)\n",
    "\n"
   ]
  },
  {
   "cell_type": "code",
   "execution_count": 7,
   "metadata": {
    "id": "KOaZE6c0HWXk"
   },
   "outputs": [],
   "source": [
    "# import StandardScaler, DecisionTreeClassifier and make_pipeline\n",
    "from sklearn.preprocessing import StandardScaler\n",
    "from sklearn.tree import DecisionTreeClassifier\n",
    "from sklearn.pipeline import make_pipeline\n",
    "\n",
    "\n",
    "\n",
    "\n",
    "\n"
   ]
  },
  {
   "cell_type": "code",
   "execution_count": 8,
   "metadata": {
    "colab": {
     "base_uri": "https://localhost:8080/"
    },
    "id": "KXczCUEpHWXl",
    "outputId": "28329c16-55b9-4837-83dc-6864249e1655"
   },
   "outputs": [
    {
     "data": {
      "text/plain": [
       "Pipeline(steps=[('standardscaler', StandardScaler()),\n",
       "                ('decisiontreeclassifier',\n",
       "                 DecisionTreeClassifier(random_state=1))])"
      ]
     },
     "execution_count": 8,
     "metadata": {},
     "output_type": "execute_result"
    }
   ],
   "source": [
    "## Pipeline Estimator with StandardScaler and DecisionTreeClassifier with random_state as 1\n",
    "pipeline = make_pipeline(StandardScaler(),DecisionTreeClassifier(random_state=1))\n",
    "\n",
    "\n",
    "\n",
    "\n",
    "# fit model on training data\n",
    "\n",
    "pipeline.fit(X_train,y_train)\n",
    "\n",
    "\n"
   ]
  },
  {
   "cell_type": "code",
   "execution_count": 9,
   "metadata": {
    "colab": {
     "base_uri": "https://localhost:8080/"
    },
    "id": "HD2cW3V7HWXl",
    "outputId": "fc919467-59ea-4268-d9a1-b4ee2a364894"
   },
   "outputs": [
    {
     "name": "stdout",
     "output_type": "stream",
     "text": [
      "Model test Score: 0.728\n",
      "Model training Score: 1.000\n"
     ]
    }
   ],
   "source": [
    "# Model scores on test and training data\n",
    "print('Model test Score: %.3f' %pipeline.score(X_test,y_test))\n",
    "print('Model training Score: %.3f' %pipeline.score(X_train,y_train))\n",
    "\n",
    "\n",
    "\n",
    "\n"
   ]
  },
  {
   "cell_type": "markdown",
   "metadata": {
    "id": "4AVbQ16mHWXm"
   },
   "source": [
    " Note- model tends to overfit the data as the test score is 0.72 and training score is 1.00.\n"
   ]
  },
  {
   "cell_type": "code",
   "execution_count": 10,
   "metadata": {
    "colab": {
     "base_uri": "https://localhost:8080/"
    },
    "id": "ngSAoeDZHWXm",
    "outputId": "cc559836-0bbe-484f-c9ec-c0f9e4c0c6fd"
   },
   "outputs": [
    {
     "name": "stdout",
     "output_type": "stream",
     "text": [
      "Model test Score: 0.810\n",
      "Model training Score: 0.979\n"
     ]
    }
   ],
   "source": [
    "# import BaggingClassifier\n",
    "\n",
    "from sklearn.ensemble import BaggingClassifier\n",
    "\n",
    "\n",
    "\n",
    "# Instantiate the bagging classifier with base_estimator as pipeline and random_state=1\n",
    "bgclassifier = BaggingClassifier(base_estimator=pipeline,random_state=1)\n",
    "\n",
    "\n",
    "\n",
    "#fitting above model on training data\n",
    "bgclassifier.fit(X_train,y_train)\n",
    "\n",
    "\n",
    "\n",
    "\n",
    "## Model scores on test and training data\n",
    "\n",
    "print('Model test Score: %.3f' %bgclassifier.score(X_test,y_test))\n",
    "print('Model training Score: %.3f' %bgclassifier.score(X_train,y_train))\n",
    "\n",
    "\n"
   ]
  },
  {
   "cell_type": "markdown",
   "metadata": {
    "id": "QKlqTXJXHWXm"
   },
   "source": [
    "The model comes up with the following scores. Note that the model tends to overfit the data as the test score is 0.81 and training score is 0.98. However, the model will give better generalization performance than the model fit with Descision Tree alone.\n",
    "\n",
    "\n",
    "\n"
   ]
  },
  {
   "cell_type": "markdown",
   "metadata": {
    "id": "Sg3MylyNHWXn"
   },
   "source": [
    "Wohooo! did you observe that we have succesfully eliminated problem of overfitting using bagging method and hyperparameter tuning it."
   ]
  },
  {
   "cell_type": "markdown",
   "metadata": {
    "id": "RwjdabO6HWXn"
   },
   "source": [
    "\n",
    "#### **`RandomForest Classifier`**\n",
    "\n",
    "\n",
    "\n",
    "Lets check RandomForest algorithm for doing bagging.\n",
    "\n",
    "\n",
    "Random forest, like its name implies, consists of a large number of individual decision trees that operate as an ensemble. Each individual tree in the random forest spits out a class prediction and the class with the most votes becomes our model’s prediction.\n",
    "\n",
    "Random forest is an extension of bagging that also randomly selects subsets of features used in each data sample.\n"
   ]
  },
  {
   "cell_type": "code",
   "execution_count": 13,
   "metadata": {
    "colab": {
     "base_uri": "https://localhost:8080/"
    },
    "id": "vRTwwPyfHWXo",
    "outputId": "19d70f7c-9ac5-4913-b2ce-0d615d68f784"
   },
   "outputs": [
    {
     "data": {
      "text/plain": [
       "RandomForestClassifier(random_state=1)"
      ]
     },
     "execution_count": 13,
     "metadata": {},
     "output_type": "execute_result"
    }
   ],
   "source": [
    "# Importing random forest classifier from sklearn library\n",
    "\n",
    "from sklearn.ensemble import RandomForestClassifier\n",
    "\n",
    "\n",
    "# Running the random forest with default parameters, but random_state as 1\n",
    "rfc = RandomForestClassifier(random_state=1)\n",
    "\n",
    "\n",
    "# fit model on training data\n",
    "rfc.fit(X_train,y_train)\n",
    "\n"
   ]
  },
  {
   "cell_type": "code",
   "execution_count": 14,
   "metadata": {
    "id": "fVkb_K6MHWXo"
   },
   "outputs": [],
   "source": [
    "# Making predictions\n",
    "predictions =rfc.predict(X_test) \n",
    "\n",
    "\n"
   ]
  },
  {
   "cell_type": "code",
   "execution_count": 15,
   "metadata": {
    "colab": {
     "base_uri": "https://localhost:8080/"
    },
    "id": "DWtFV9rfHWXo",
    "outputId": "e289ec84-bdfd-49bc-f5a6-2984d422cd37"
   },
   "outputs": [
    {
     "name": "stdout",
     "output_type": "stream",
     "text": [
      "              precision    recall  f1-score   support\n",
      "\n",
      "           0       0.85      0.95      0.89      7058\n",
      "           1       0.66      0.37      0.47      1942\n",
      "\n",
      "    accuracy                           0.82      9000\n",
      "   macro avg       0.75      0.66      0.68      9000\n",
      "weighted avg       0.80      0.82      0.80      9000\n",
      "\n"
     ]
    }
   ],
   "source": [
    "# Importing classification report and confusion matrix from sklearn metrics\n",
    "from sklearn.metrics import classification_report,confusion_matrix,accuracy_score\n",
    "\n",
    "\n",
    "\n",
    "# Let's check the report of our default model\n",
    "print(classification_report(y_test,predictions))\n",
    "\n",
    "\n",
    "\n"
   ]
  },
  {
   "cell_type": "code",
   "execution_count": 16,
   "metadata": {
    "colab": {
     "base_uri": "https://localhost:8080/"
    },
    "id": "BYk7Llc5HWXo",
    "outputId": "7cc6e148-58e8-41d5-fff3-42cdc45218ef"
   },
   "outputs": [
    {
     "name": "stdout",
     "output_type": "stream",
     "text": [
      "[[6683  375]\n",
      " [1224  718]]\n",
      "0.8223333333333334\n"
     ]
    }
   ],
   "source": [
    "# Printing confusion matrix\n",
    "print(confusion_matrix(y_test,predictions))\n",
    "\n",
    "\n",
    "\n",
    "\n",
    "#Printing accuracy\n",
    "print(accuracy_score(y_test,predictions))\n",
    "\n",
    "\n"
   ]
  },
  {
   "cell_type": "markdown",
   "metadata": {},
   "source": [
    "Hyperparameter Tuning"
   ]
  },
  {
   "cell_type": "code",
   "execution_count": 17,
   "metadata": {
    "colab": {
     "base_uri": "https://localhost:8080/"
    },
    "id": "Gpoq8xddHWXp",
    "outputId": "b8b71aab-1e62-4b5b-c57c-9f80701fbf69"
   },
   "outputs": [
    {
     "data": {
      "text/plain": [
       "GridSearchCV(cv=5, estimator=RandomForestClassifier(random_state=1),\n",
       "             param_grid={'max_depth': range(2, 20, 5)}, return_train_score=True,\n",
       "             scoring='accuracy')"
      ]
     },
     "execution_count": 17,
     "metadata": {},
     "output_type": "execute_result"
    }
   ],
   "source": [
    "# import Kfold \n",
    "from sklearn.model_selection import KFold\n",
    "\n",
    "\n",
    "\n",
    "\n",
    "\n",
    "# specify number of folds for k-fold CV which is 5\n",
    "n_folds = 5\n",
    "\n",
    "# parameters to build the model on here max_depth with range(2, 20, 5)\n",
    "parameters ={'max_depth':range(2,20,5)} \n",
    "\n",
    "\n",
    "\n",
    "# instantiate the model Random Forest with random_state=1\n",
    "rf = RandomForestClassifier(random_state=1)\n",
    "\n",
    "\n",
    "\n",
    "\n",
    "# Instantiate GridSearchCVwith rf, parameter, cv and scoring as accuracy and return_train_score=True\n",
    "rf = GridSearchCV(rf,parameters,cv=n_folds,scoring='accuracy',return_train_score=True)\n",
    "\n",
    "\n",
    "\n",
    "# fit tree on training data\n",
    "rf.fit(X_train,y_train)\n",
    "\n"
   ]
  },
  {
   "cell_type": "code",
   "execution_count": 18,
   "metadata": {
    "colab": {
     "base_uri": "https://localhost:8080/",
     "height": 338
    },
    "id": "PBPnHWG5HWXp",
    "outputId": "3ccf173a-b52f-4521-cf3e-224e1640850a"
   },
   "outputs": [
    {
     "data": {
      "text/html": [
       "\n",
       "  <div id=\"df-360fe2e6-996b-4224-8e03-67b8076df879\">\n",
       "    <div class=\"colab-df-container\">\n",
       "      <div>\n",
       "<style scoped>\n",
       "    .dataframe tbody tr th:only-of-type {\n",
       "        vertical-align: middle;\n",
       "    }\n",
       "\n",
       "    .dataframe tbody tr th {\n",
       "        vertical-align: top;\n",
       "    }\n",
       "\n",
       "    .dataframe thead th {\n",
       "        text-align: right;\n",
       "    }\n",
       "</style>\n",
       "<table border=\"1\" class=\"dataframe\">\n",
       "  <thead>\n",
       "    <tr style=\"text-align: right;\">\n",
       "      <th></th>\n",
       "      <th>mean_fit_time</th>\n",
       "      <th>std_fit_time</th>\n",
       "      <th>mean_score_time</th>\n",
       "      <th>std_score_time</th>\n",
       "      <th>param_max_depth</th>\n",
       "      <th>params</th>\n",
       "      <th>split0_test_score</th>\n",
       "      <th>split1_test_score</th>\n",
       "      <th>split2_test_score</th>\n",
       "      <th>split3_test_score</th>\n",
       "      <th>...</th>\n",
       "      <th>mean_test_score</th>\n",
       "      <th>std_test_score</th>\n",
       "      <th>rank_test_score</th>\n",
       "      <th>split0_train_score</th>\n",
       "      <th>split1_train_score</th>\n",
       "      <th>split2_train_score</th>\n",
       "      <th>split3_train_score</th>\n",
       "      <th>split4_train_score</th>\n",
       "      <th>mean_train_score</th>\n",
       "      <th>std_train_score</th>\n",
       "    </tr>\n",
       "  </thead>\n",
       "  <tbody>\n",
       "    <tr>\n",
       "      <th>0</th>\n",
       "      <td>0.949805</td>\n",
       "      <td>0.037145</td>\n",
       "      <td>0.039839</td>\n",
       "      <td>0.002490</td>\n",
       "      <td>2</td>\n",
       "      <td>{'max_depth': 2}</td>\n",
       "      <td>0.803095</td>\n",
       "      <td>0.803095</td>\n",
       "      <td>0.800476</td>\n",
       "      <td>0.796905</td>\n",
       "      <td>...</td>\n",
       "      <td>0.800905</td>\n",
       "      <td>0.002271</td>\n",
       "      <td>4</td>\n",
       "      <td>0.801190</td>\n",
       "      <td>0.799464</td>\n",
       "      <td>0.801667</td>\n",
       "      <td>0.803333</td>\n",
       "      <td>0.801786</td>\n",
       "      <td>0.801488</td>\n",
       "      <td>0.001242</td>\n",
       "    </tr>\n",
       "    <tr>\n",
       "      <th>1</th>\n",
       "      <td>2.352500</td>\n",
       "      <td>0.027917</td>\n",
       "      <td>0.056679</td>\n",
       "      <td>0.002070</td>\n",
       "      <td>7</td>\n",
       "      <td>{'max_depth': 7}</td>\n",
       "      <td>0.815238</td>\n",
       "      <td>0.819762</td>\n",
       "      <td>0.818095</td>\n",
       "      <td>0.817857</td>\n",
       "      <td>...</td>\n",
       "      <td>0.817667</td>\n",
       "      <td>0.001455</td>\n",
       "      <td>1</td>\n",
       "      <td>0.831012</td>\n",
       "      <td>0.831071</td>\n",
       "      <td>0.831548</td>\n",
       "      <td>0.833333</td>\n",
       "      <td>0.834107</td>\n",
       "      <td>0.832214</td>\n",
       "      <td>0.001267</td>\n",
       "    </tr>\n",
       "    <tr>\n",
       "      <th>2</th>\n",
       "      <td>3.635226</td>\n",
       "      <td>0.038570</td>\n",
       "      <td>0.081327</td>\n",
       "      <td>0.001923</td>\n",
       "      <td>12</td>\n",
       "      <td>{'max_depth': 12}</td>\n",
       "      <td>0.813095</td>\n",
       "      <td>0.819286</td>\n",
       "      <td>0.820476</td>\n",
       "      <td>0.814286</td>\n",
       "      <td>...</td>\n",
       "      <td>0.816905</td>\n",
       "      <td>0.002829</td>\n",
       "      <td>2</td>\n",
       "      <td>0.883929</td>\n",
       "      <td>0.886012</td>\n",
       "      <td>0.884345</td>\n",
       "      <td>0.887560</td>\n",
       "      <td>0.885298</td>\n",
       "      <td>0.885429</td>\n",
       "      <td>0.001290</td>\n",
       "    </tr>\n",
       "    <tr>\n",
       "      <th>3</th>\n",
       "      <td>4.651633</td>\n",
       "      <td>0.209179</td>\n",
       "      <td>0.106285</td>\n",
       "      <td>0.003201</td>\n",
       "      <td>17</td>\n",
       "      <td>{'max_depth': 17}</td>\n",
       "      <td>0.812143</td>\n",
       "      <td>0.815952</td>\n",
       "      <td>0.820000</td>\n",
       "      <td>0.808571</td>\n",
       "      <td>...</td>\n",
       "      <td>0.815190</td>\n",
       "      <td>0.004326</td>\n",
       "      <td>3</td>\n",
       "      <td>0.926845</td>\n",
       "      <td>0.930536</td>\n",
       "      <td>0.931548</td>\n",
       "      <td>0.929524</td>\n",
       "      <td>0.927857</td>\n",
       "      <td>0.929262</td>\n",
       "      <td>0.001716</td>\n",
       "    </tr>\n",
       "  </tbody>\n",
       "</table>\n",
       "<p>4 rows × 21 columns</p>\n",
       "</div>\n",
       "      <button class=\"colab-df-convert\" onclick=\"convertToInteractive('df-360fe2e6-996b-4224-8e03-67b8076df879')\"\n",
       "              title=\"Convert this dataframe to an interactive table.\"\n",
       "              style=\"display:none;\">\n",
       "        \n",
       "  <svg xmlns=\"http://www.w3.org/2000/svg\" height=\"24px\"viewBox=\"0 0 24 24\"\n",
       "       width=\"24px\">\n",
       "    <path d=\"M0 0h24v24H0V0z\" fill=\"none\"/>\n",
       "    <path d=\"M18.56 5.44l.94 2.06.94-2.06 2.06-.94-2.06-.94-.94-2.06-.94 2.06-2.06.94zm-11 1L8.5 8.5l.94-2.06 2.06-.94-2.06-.94L8.5 2.5l-.94 2.06-2.06.94zm10 10l.94 2.06.94-2.06 2.06-.94-2.06-.94-.94-2.06-.94 2.06-2.06.94z\"/><path d=\"M17.41 7.96l-1.37-1.37c-.4-.4-.92-.59-1.43-.59-.52 0-1.04.2-1.43.59L10.3 9.45l-7.72 7.72c-.78.78-.78 2.05 0 2.83L4 21.41c.39.39.9.59 1.41.59.51 0 1.02-.2 1.41-.59l7.78-7.78 2.81-2.81c.8-.78.8-2.07 0-2.86zM5.41 20L4 18.59l7.72-7.72 1.47 1.35L5.41 20z\"/>\n",
       "  </svg>\n",
       "      </button>\n",
       "      \n",
       "  <style>\n",
       "    .colab-df-container {\n",
       "      display:flex;\n",
       "      flex-wrap:wrap;\n",
       "      gap: 12px;\n",
       "    }\n",
       "\n",
       "    .colab-df-convert {\n",
       "      background-color: #E8F0FE;\n",
       "      border: none;\n",
       "      border-radius: 50%;\n",
       "      cursor: pointer;\n",
       "      display: none;\n",
       "      fill: #1967D2;\n",
       "      height: 32px;\n",
       "      padding: 0 0 0 0;\n",
       "      width: 32px;\n",
       "    }\n",
       "\n",
       "    .colab-df-convert:hover {\n",
       "      background-color: #E2EBFA;\n",
       "      box-shadow: 0px 1px 2px rgba(60, 64, 67, 0.3), 0px 1px 3px 1px rgba(60, 64, 67, 0.15);\n",
       "      fill: #174EA6;\n",
       "    }\n",
       "\n",
       "    [theme=dark] .colab-df-convert {\n",
       "      background-color: #3B4455;\n",
       "      fill: #D2E3FC;\n",
       "    }\n",
       "\n",
       "    [theme=dark] .colab-df-convert:hover {\n",
       "      background-color: #434B5C;\n",
       "      box-shadow: 0px 1px 3px 1px rgba(0, 0, 0, 0.15);\n",
       "      filter: drop-shadow(0px 1px 2px rgba(0, 0, 0, 0.3));\n",
       "      fill: #FFFFFF;\n",
       "    }\n",
       "  </style>\n",
       "\n",
       "      <script>\n",
       "        const buttonEl =\n",
       "          document.querySelector('#df-360fe2e6-996b-4224-8e03-67b8076df879 button.colab-df-convert');\n",
       "        buttonEl.style.display =\n",
       "          google.colab.kernel.accessAllowed ? 'block' : 'none';\n",
       "\n",
       "        async function convertToInteractive(key) {\n",
       "          const element = document.querySelector('#df-360fe2e6-996b-4224-8e03-67b8076df879');\n",
       "          const dataTable =\n",
       "            await google.colab.kernel.invokeFunction('convertToInteractive',\n",
       "                                                     [key], {});\n",
       "          if (!dataTable) return;\n",
       "\n",
       "          const docLinkHtml = 'Like what you see? Visit the ' +\n",
       "            '<a target=\"_blank\" href=https://colab.research.google.com/notebooks/data_table.ipynb>data table notebook</a>'\n",
       "            + ' to learn more about interactive tables.';\n",
       "          element.innerHTML = '';\n",
       "          dataTable['output_type'] = 'display_data';\n",
       "          await google.colab.output.renderOutput(dataTable, element);\n",
       "          const docLink = document.createElement('div');\n",
       "          docLink.innerHTML = docLinkHtml;\n",
       "          element.appendChild(docLink);\n",
       "        }\n",
       "      </script>\n",
       "    </div>\n",
       "  </div>\n",
       "  "
      ],
      "text/plain": [
       "   mean_fit_time  std_fit_time  mean_score_time  std_score_time  \\\n",
       "0       0.949805      0.037145         0.039839        0.002490   \n",
       "1       2.352500      0.027917         0.056679        0.002070   \n",
       "2       3.635226      0.038570         0.081327        0.001923   \n",
       "3       4.651633      0.209179         0.106285        0.003201   \n",
       "\n",
       "  param_max_depth             params  split0_test_score  split1_test_score  \\\n",
       "0               2   {'max_depth': 2}           0.803095           0.803095   \n",
       "1               7   {'max_depth': 7}           0.815238           0.819762   \n",
       "2              12  {'max_depth': 12}           0.813095           0.819286   \n",
       "3              17  {'max_depth': 17}           0.812143           0.815952   \n",
       "\n",
       "   split2_test_score  split3_test_score  ...  mean_test_score  std_test_score  \\\n",
       "0           0.800476           0.796905  ...         0.800905        0.002271   \n",
       "1           0.818095           0.817857  ...         0.817667        0.001455   \n",
       "2           0.820476           0.814286  ...         0.816905        0.002829   \n",
       "3           0.820000           0.808571  ...         0.815190        0.004326   \n",
       "\n",
       "   rank_test_score  split0_train_score  split1_train_score  \\\n",
       "0                4            0.801190            0.799464   \n",
       "1                1            0.831012            0.831071   \n",
       "2                2            0.883929            0.886012   \n",
       "3                3            0.926845            0.930536   \n",
       "\n",
       "   split2_train_score  split3_train_score  split4_train_score  \\\n",
       "0            0.801667            0.803333            0.801786   \n",
       "1            0.831548            0.833333            0.834107   \n",
       "2            0.884345            0.887560            0.885298   \n",
       "3            0.931548            0.929524            0.927857   \n",
       "\n",
       "   mean_train_score  std_train_score  \n",
       "0          0.801488         0.001242  \n",
       "1          0.832214         0.001267  \n",
       "2          0.885429         0.001290  \n",
       "3          0.929262         0.001716  \n",
       "\n",
       "[4 rows x 21 columns]"
      ]
     },
     "execution_count": 18,
     "metadata": {},
     "output_type": "execute_result"
    }
   ],
   "source": [
    "# scores of GridSearch CV\n",
    "scores =rf.cv_results_ \n",
    "\n",
    "\n",
    "# convert scores into dataframe and print head\n",
    "pd.DataFrame(scores).head()\n",
    "\n",
    "\n"
   ]
  },
  {
   "cell_type": "code",
   "execution_count": 19,
   "metadata": {
    "colab": {
     "base_uri": "https://localhost:8080/",
     "height": 280
    },
    "id": "GVdN0vGxHWXp",
    "outputId": "6160db48-51f4-4456-dab8-c73f7372a4a1"
   },
   "outputs": [
    {
     "data": {
      "image/png": "[encoded data removed]",
      "text/plain": [
       "<Figure size 432x288 with 1 Axes>"
      ]
     },
     "metadata": {
      "needs_background": "light"
     },
     "output_type": "display_data"
    }
   ],
   "source": [
    "# plotting accuracies with max_depth\n",
    "plt.figure()\n",
    "\n",
    "# code below\n",
    "plt.plot(scores['param_max_depth'],scores['mean_train_score'],label='training accuracy')\n",
    "plt.plot(scores['param_max_depth'],scores['mean_test_score'],label='test accuracy')\n",
    "plt.xlabel('max_depth')\n",
    "plt.ylabel('Accuracy')\n",
    "plt.legend()\n",
    "\n",
    "plt.show()\n"
   ]
  },
  {
   "cell_type": "markdown",
   "metadata": {
    "id": "6wLF-n8xHWXq"
   },
   "source": [
    "\n",
    "\n",
    "### **`Tuning n_estimators`**\n",
    "\n"
   ]
  },
  {
   "cell_type": "code",
   "execution_count": 20,
   "metadata": {
    "colab": {
     "base_uri": "https://localhost:8080/"
    },
    "id": "YHvJYyyGHWXq",
    "outputId": "91155121-42bd-4453-b4a8-82d1b3c10ae2"
   },
   "outputs": [
    {
     "data": {
      "text/plain": [
       "GridSearchCV(cv=5,\n",
       "             estimator=RandomForestClassifier(max_depth=4, random_state=1),\n",
       "             param_grid={'n_estimators': range(100, 1500, 400)},\n",
       "             return_train_score=True, scoring='accuracy')"
      ]
     },
     "execution_count": 20,
     "metadata": {},
     "output_type": "execute_result"
    }
   ],
   "source": [
    "\n",
    "# parameters to build the model on (here n_estimators with range(100, 1500, 400))\n",
    "parameters = {'n_estimators':range(100,1500,400)}\n",
    "\n",
    "\n",
    "\n",
    "# instantiate the model (note we are specifying a max_depth as 4) and random_state as 1\n",
    "rf = RandomForestClassifier(max_depth=4,random_state=1)\n",
    "\n",
    "\n",
    "\n",
    "\n",
    "\n",
    "# Instantiate GridSearchCVwith rf, parameter, cv and scoring as accuracy and return_train_score as True\n",
    "Rf = GridSearchCV(rf,parameters,cv=n_folds,scoring='accuracy',return_train_score=True)\n",
    "\n",
    "\n",
    "\n",
    "\n",
    "# fit tree on training data\n",
    "Rf.fit(X_train,y_train)\n",
    "\n",
    "\n",
    "\n"
   ]
  },
  {
   "cell_type": "code",
   "execution_count": 21,
   "metadata": {
    "colab": {
     "base_uri": "https://localhost:8080/",
     "height": 338
    },
    "id": "gtesgmV6HWXq",
    "outputId": "687715d2-d54d-434b-9de6-8cb706848ac3"
   },
   "outputs": [
    {
     "data": {
      "text/html": [
       "\n",
       "  <div id=\"df-fa7951df-458d-4782-bafa-29f2ae58ae0b\">\n",
       "    <div class=\"colab-df-container\">\n",
       "      <div>\n",
       "<style scoped>\n",
       "    .dataframe tbody tr th:only-of-type {\n",
       "        vertical-align: middle;\n",
       "    }\n",
       "\n",
       "    .dataframe tbody tr th {\n",
       "        vertical-align: top;\n",
       "    }\n",
       "\n",
       "    .dataframe thead th {\n",
       "        text-align: right;\n",
       "    }\n",
       "</style>\n",
       "<table border=\"1\" class=\"dataframe\">\n",
       "  <thead>\n",
       "    <tr style=\"text-align: right;\">\n",
       "      <th></th>\n",
       "      <th>mean_fit_time</th>\n",
       "      <th>std_fit_time</th>\n",
       "      <th>mean_score_time</th>\n",
       "      <th>std_score_time</th>\n",
       "      <th>param_n_estimators</th>\n",
       "      <th>params</th>\n",
       "      <th>split0_test_score</th>\n",
       "      <th>split1_test_score</th>\n",
       "      <th>split2_test_score</th>\n",
       "      <th>split3_test_score</th>\n",
       "      <th>...</th>\n",
       "      <th>mean_test_score</th>\n",
       "      <th>std_test_score</th>\n",
       "      <th>rank_test_score</th>\n",
       "      <th>split0_train_score</th>\n",
       "      <th>split1_train_score</th>\n",
       "      <th>split2_train_score</th>\n",
       "      <th>split3_train_score</th>\n",
       "      <th>split4_train_score</th>\n",
       "      <th>mean_train_score</th>\n",
       "      <th>std_train_score</th>\n",
       "    </tr>\n",
       "  </thead>\n",
       "  <tbody>\n",
       "    <tr>\n",
       "      <th>0</th>\n",
       "      <td>1.570757</td>\n",
       "      <td>0.029869</td>\n",
       "      <td>0.045956</td>\n",
       "      <td>0.001763</td>\n",
       "      <td>100</td>\n",
       "      <td>{'n_estimators': 100}</td>\n",
       "      <td>0.812143</td>\n",
       "      <td>0.813333</td>\n",
       "      <td>0.812619</td>\n",
       "      <td>0.805000</td>\n",
       "      <td>...</td>\n",
       "      <td>0.810619</td>\n",
       "      <td>0.003021</td>\n",
       "      <td>1</td>\n",
       "      <td>0.811131</td>\n",
       "      <td>0.809643</td>\n",
       "      <td>0.812976</td>\n",
       "      <td>0.813214</td>\n",
       "      <td>0.813631</td>\n",
       "      <td>0.812119</td>\n",
       "      <td>0.001505</td>\n",
       "    </tr>\n",
       "    <tr>\n",
       "      <th>1</th>\n",
       "      <td>7.846283</td>\n",
       "      <td>0.109455</td>\n",
       "      <td>0.214789</td>\n",
       "      <td>0.004614</td>\n",
       "      <td>500</td>\n",
       "      <td>{'n_estimators': 500}</td>\n",
       "      <td>0.812619</td>\n",
       "      <td>0.813571</td>\n",
       "      <td>0.810952</td>\n",
       "      <td>0.805476</td>\n",
       "      <td>...</td>\n",
       "      <td>0.810190</td>\n",
       "      <td>0.002952</td>\n",
       "      <td>2</td>\n",
       "      <td>0.811488</td>\n",
       "      <td>0.810417</td>\n",
       "      <td>0.812024</td>\n",
       "      <td>0.812560</td>\n",
       "      <td>0.812857</td>\n",
       "      <td>0.811869</td>\n",
       "      <td>0.000864</td>\n",
       "    </tr>\n",
       "    <tr>\n",
       "      <th>2</th>\n",
       "      <td>14.109803</td>\n",
       "      <td>0.287783</td>\n",
       "      <td>0.379576</td>\n",
       "      <td>0.008321</td>\n",
       "      <td>900</td>\n",
       "      <td>{'n_estimators': 900}</td>\n",
       "      <td>0.811667</td>\n",
       "      <td>0.813810</td>\n",
       "      <td>0.811429</td>\n",
       "      <td>0.805238</td>\n",
       "      <td>...</td>\n",
       "      <td>0.810048</td>\n",
       "      <td>0.003021</td>\n",
       "      <td>3</td>\n",
       "      <td>0.811190</td>\n",
       "      <td>0.810536</td>\n",
       "      <td>0.811845</td>\n",
       "      <td>0.812798</td>\n",
       "      <td>0.812679</td>\n",
       "      <td>0.811810</td>\n",
       "      <td>0.000865</td>\n",
       "    </tr>\n",
       "    <tr>\n",
       "      <th>3</th>\n",
       "      <td>20.220850</td>\n",
       "      <td>0.140704</td>\n",
       "      <td>0.580071</td>\n",
       "      <td>0.060205</td>\n",
       "      <td>1300</td>\n",
       "      <td>{'n_estimators': 1300}</td>\n",
       "      <td>0.811667</td>\n",
       "      <td>0.813571</td>\n",
       "      <td>0.811429</td>\n",
       "      <td>0.805000</td>\n",
       "      <td>...</td>\n",
       "      <td>0.809857</td>\n",
       "      <td>0.003103</td>\n",
       "      <td>4</td>\n",
       "      <td>0.811190</td>\n",
       "      <td>0.810238</td>\n",
       "      <td>0.811905</td>\n",
       "      <td>0.812798</td>\n",
       "      <td>0.812738</td>\n",
       "      <td>0.811774</td>\n",
       "      <td>0.000969</td>\n",
       "    </tr>\n",
       "  </tbody>\n",
       "</table>\n",
       "<p>4 rows × 21 columns</p>\n",
       "</div>\n",
       "      <button class=\"colab-df-convert\" onclick=\"convertToInteractive('df-fa7951df-458d-4782-bafa-29f2ae58ae0b')\"\n",
       "              title=\"Convert this dataframe to an interactive table.\"\n",
       "              style=\"display:none;\">\n",
       "        \n",
       "  <svg xmlns=\"http://www.w3.org/2000/svg\" height=\"24px\"viewBox=\"0 0 24 24\"\n",
       "       width=\"24px\">\n",
       "    <path d=\"M0 0h24v24H0V0z\" fill=\"none\"/>\n",
       "    <path d=\"M18.56 5.44l.94 2.06.94-2.06 2.06-.94-2.06-.94-.94-2.06-.94 2.06-2.06.94zm-11 1L8.5 8.5l.94-2.06 2.06-.94-2.06-.94L8.5 2.5l-.94 2.06-2.06.94zm10 10l.94 2.06.94-2.06 2.06-.94-2.06-.94-.94-2.06-.94 2.06-2.06.94z\"/><path d=\"M17.41 7.96l-1.37-1.37c-.4-.4-.92-.59-1.43-.59-.52 0-1.04.2-1.43.59L10.3 9.45l-7.72 7.72c-.78.78-.78 2.05 0 2.83L4 21.41c.39.39.9.59 1.41.59.51 0 1.02-.2 1.41-.59l7.78-7.78 2.81-2.81c.8-.78.8-2.07 0-2.86zM5.41 20L4 18.59l7.72-7.72 1.47 1.35L5.41 20z\"/>\n",
       "  </svg>\n",
       "      </button>\n",
       "      \n",
       "  <style>\n",
       "    .colab-df-container {\n",
       "      display:flex;\n",
       "      flex-wrap:wrap;\n",
       "      gap: 12px;\n",
       "    }\n",
       "\n",
       "    .colab-df-convert {\n",
       "      background-color: #E8F0FE;\n",
       "      border: none;\n",
       "      border-radius: 50%;\n",
       "      cursor: pointer;\n",
       "      display: none;\n",
       "      fill: #1967D2;\n",
       "      height: 32px;\n",
       "      padding: 0 0 0 0;\n",
       "      width: 32px;\n",
       "    }\n",
       "\n",
       "    .colab-df-convert:hover {\n",
       "      background-color: #E2EBFA;\n",
       "      box-shadow: 0px 1px 2px rgba(60, 64, 67, 0.3), 0px 1px 3px 1px rgba(60, 64, 67, 0.15);\n",
       "      fill: #174EA6;\n",
       "    }\n",
       "\n",
       "    [theme=dark] .colab-df-convert {\n",
       "      background-color: #3B4455;\n",
       "      fill: #D2E3FC;\n",
       "    }\n",
       "\n",
       "    [theme=dark] .colab-df-convert:hover {\n",
       "      background-color: #434B5C;\n",
       "      box-shadow: 0px 1px 3px 1px rgba(0, 0, 0, 0.15);\n",
       "      filter: drop-shadow(0px 1px 2px rgba(0, 0, 0, 0.3));\n",
       "      fill: #FFFFFF;\n",
       "    }\n",
       "  </style>\n",
       "\n",
       "      <script>\n",
       "        const buttonEl =\n",
       "          document.querySelector('#df-fa7951df-458d-4782-bafa-29f2ae58ae0b button.colab-df-convert');\n",
       "        buttonEl.style.display =\n",
       "          google.colab.kernel.accessAllowed ? 'block' : 'none';\n",
       "\n",
       "        async function convertToInteractive(key) {\n",
       "          const element = document.querySelector('#df-fa7951df-458d-4782-bafa-29f2ae58ae0b');\n",
       "          const dataTable =\n",
       "            await google.colab.kernel.invokeFunction('convertToInteractive',\n",
       "                                                     [key], {});\n",
       "          if (!dataTable) return;\n",
       "\n",
       "          const docLinkHtml = 'Like what you see? Visit the ' +\n",
       "            '<a target=\"_blank\" href=https://colab.research.google.com/notebooks/data_table.ipynb>data table notebook</a>'\n",
       "            + ' to learn more about interactive tables.';\n",
       "          element.innerHTML = '';\n",
       "          dataTable['output_type'] = 'display_data';\n",
       "          await google.colab.output.renderOutput(dataTable, element);\n",
       "          const docLink = document.createElement('div');\n",
       "          docLink.innerHTML = docLinkHtml;\n",
       "          element.appendChild(docLink);\n",
       "        }\n",
       "      </script>\n",
       "    </div>\n",
       "  </div>\n",
       "  "
      ],
      "text/plain": [
       "   mean_fit_time  std_fit_time  mean_score_time  std_score_time  \\\n",
       "0       1.570757      0.029869         0.045956        0.001763   \n",
       "1       7.846283      0.109455         0.214789        0.004614   \n",
       "2      14.109803      0.287783         0.379576        0.008321   \n",
       "3      20.220850      0.140704         0.580071        0.060205   \n",
       "\n",
       "  param_n_estimators                  params  split0_test_score  \\\n",
       "0                100   {'n_estimators': 100}           0.812143   \n",
       "1                500   {'n_estimators': 500}           0.812619   \n",
       "2                900   {'n_estimators': 900}           0.811667   \n",
       "3               1300  {'n_estimators': 1300}           0.811667   \n",
       "\n",
       "   split1_test_score  split2_test_score  split3_test_score  ...  \\\n",
       "0           0.813333           0.812619           0.805000  ...   \n",
       "1           0.813571           0.810952           0.805476  ...   \n",
       "2           0.813810           0.811429           0.805238  ...   \n",
       "3           0.813571           0.811429           0.805000  ...   \n",
       "\n",
       "   mean_test_score  std_test_score  rank_test_score  split0_train_score  \\\n",
       "0         0.810619        0.003021                1            0.811131   \n",
       "1         0.810190        0.002952                2            0.811488   \n",
       "2         0.810048        0.003021                3            0.811190   \n",
       "3         0.809857        0.003103                4            0.811190   \n",
       "\n",
       "   split1_train_score  split2_train_score  split3_train_score  \\\n",
       "0            0.809643            0.812976            0.813214   \n",
       "1            0.810417            0.812024            0.812560   \n",
       "2            0.810536            0.811845            0.812798   \n",
       "3            0.810238            0.811905            0.812798   \n",
       "\n",
       "   split4_train_score  mean_train_score  std_train_score  \n",
       "0            0.813631          0.812119         0.001505  \n",
       "1            0.812857          0.811869         0.000864  \n",
       "2            0.812679          0.811810         0.000865  \n",
       "3            0.812738          0.811774         0.000969  \n",
       "\n",
       "[4 rows x 21 columns]"
      ]
     },
     "execution_count": 21,
     "metadata": {},
     "output_type": "execute_result"
    }
   ],
   "source": [
    "# scores of GridSearch CV\n",
    "scores = Rf.cv_results_\n",
    "\n",
    "\n",
    "# convert scores into dataframe and print head\n",
    "pd.DataFrame(scores).head()\n",
    "\n"
   ]
  },
  {
   "cell_type": "code",
   "execution_count": 22,
   "metadata": {
    "colab": {
     "base_uri": "https://localhost:8080/",
     "height": 280
    },
    "id": "4N9dazIcHWXq",
    "outputId": "567a9a0a-8627-44eb-aa91-e396051c6188"
   },
   "outputs": [
    {
     "data": {
      "image/png": "[encoded data removed]",
      "text/plain": [
       "<Figure size 432x288 with 1 Axes>"
      ]
     },
     "metadata": {
      "needs_background": "light"
     },
     "output_type": "display_data"
    }
   ],
   "source": [
    "# plotting accuracies with n_estimators\n",
    "plt.figure()\n",
    "\n",
    "# code below\n",
    "plt.plot(scores['param_n_estimators'],scores['mean_train_score'],label='training accuracy')\n",
    "plt.plot(scores['param_n_estimators'],scores['mean_test_score'],label='test accuracy')\n",
    "plt.legend()\n",
    "plt.xlabel('n_estimators')\n",
    "plt.ylabel('Accuracy')\n",
    "\n",
    "\n",
    "plt.show()\n"
   ]
  },
  {
   "cell_type": "markdown",
   "metadata": {
    "id": "f9QJtqBzHWXq"
   },
   "source": [
    "### **`Tuning max_features`**"
   ]
  },
  {
   "cell_type": "code",
   "execution_count": 23,
   "metadata": {
    "colab": {
     "base_uri": "https://localhost:8080/"
    },
    "id": "YBobEH4CHWXq",
    "outputId": "08bbb034-ccfc-4387-ceaf-1f1a0e8d457b"
   },
   "outputs": [
    {
     "data": {
      "text/plain": [
       "GridSearchCV(cv=5,\n",
       "             estimator=RandomForestClassifier(max_depth=4, random_state=1),\n",
       "             param_grid={'max_features': [4, 8, 14, 20, 24]},\n",
       "             return_train_score=True, scoring='accuracy')"
      ]
     },
     "execution_count": 23,
     "metadata": {},
     "output_type": "execute_result"
    }
   ],
   "source": [
    "\n",
    "# parameters to build the model on max_features with [4, 8, 14, 20, 24]\n",
    "parameters ={'max_features':[4, 8, 14, 20, 24]} \n",
    "\n",
    "\n",
    "\n",
    "\n",
    "# instantiate the model (note we are specifying a max_depth as 4) and random_state as 1\n",
    "rf = RandomForestClassifier(max_depth=4,random_state=1)\n",
    "\n",
    "\n",
    "\n",
    "\n",
    "# Instantiate GridSearchCVwith rf, parameter, cv and scoring as accuracy and return_train_score as True\n",
    "Rf = GridSearchCV(rf,parameters,cv=n_folds,scoring='accuracy',return_train_score=True)\n",
    "\n",
    "\n",
    "\n",
    "\n",
    "\n",
    "# fit tree on training data\n",
    "Rf.fit(X_train,y_train)\n",
    "\n",
    "\n"
   ]
  },
  {
   "cell_type": "code",
   "execution_count": 24,
   "metadata": {
    "colab": {
     "base_uri": "https://localhost:8080/",
     "height": 386
    },
    "id": "PRzyr5xdHWXr",
    "outputId": "5aff882e-6df7-499e-dc61-46ad1b9a8608"
   },
   "outputs": [
    {
     "data": {
      "text/html": [
       "\n",
       "  <div id=\"df-50fd1839-8786-4bdd-9cea-2c5967eca095\">\n",
       "    <div class=\"colab-df-container\">\n",
       "      <div>\n",
       "<style scoped>\n",
       "    .dataframe tbody tr th:only-of-type {\n",
       "        vertical-align: middle;\n",
       "    }\n",
       "\n",
       "    .dataframe tbody tr th {\n",
       "        vertical-align: top;\n",
       "    }\n",
       "\n",
       "    .dataframe thead th {\n",
       "        text-align: right;\n",
       "    }\n",
       "</style>\n",
       "<table border=\"1\" class=\"dataframe\">\n",
       "  <thead>\n",
       "    <tr style=\"text-align: right;\">\n",
       "      <th></th>\n",
       "      <th>mean_fit_time</th>\n",
       "      <th>std_fit_time</th>\n",
       "      <th>mean_score_time</th>\n",
       "      <th>std_score_time</th>\n",
       "      <th>param_max_features</th>\n",
       "      <th>params</th>\n",
       "      <th>split0_test_score</th>\n",
       "      <th>split1_test_score</th>\n",
       "      <th>split2_test_score</th>\n",
       "      <th>split3_test_score</th>\n",
       "      <th>...</th>\n",
       "      <th>mean_test_score</th>\n",
       "      <th>std_test_score</th>\n",
       "      <th>rank_test_score</th>\n",
       "      <th>split0_train_score</th>\n",
       "      <th>split1_train_score</th>\n",
       "      <th>split2_train_score</th>\n",
       "      <th>split3_train_score</th>\n",
       "      <th>split4_train_score</th>\n",
       "      <th>mean_train_score</th>\n",
       "      <th>std_train_score</th>\n",
       "    </tr>\n",
       "  </thead>\n",
       "  <tbody>\n",
       "    <tr>\n",
       "      <th>0</th>\n",
       "      <td>1.574738</td>\n",
       "      <td>0.031748</td>\n",
       "      <td>0.045487</td>\n",
       "      <td>0.002486</td>\n",
       "      <td>4</td>\n",
       "      <td>{'max_features': 4}</td>\n",
       "      <td>0.812143</td>\n",
       "      <td>0.813333</td>\n",
       "      <td>0.812619</td>\n",
       "      <td>0.805000</td>\n",
       "      <td>...</td>\n",
       "      <td>0.810619</td>\n",
       "      <td>0.003021</td>\n",
       "      <td>5</td>\n",
       "      <td>0.811131</td>\n",
       "      <td>0.809643</td>\n",
       "      <td>0.812976</td>\n",
       "      <td>0.813214</td>\n",
       "      <td>0.813631</td>\n",
       "      <td>0.812119</td>\n",
       "      <td>0.001505</td>\n",
       "    </tr>\n",
       "    <tr>\n",
       "      <th>1</th>\n",
       "      <td>2.683688</td>\n",
       "      <td>0.033459</td>\n",
       "      <td>0.044589</td>\n",
       "      <td>0.002257</td>\n",
       "      <td>8</td>\n",
       "      <td>{'max_features': 8}</td>\n",
       "      <td>0.817619</td>\n",
       "      <td>0.820952</td>\n",
       "      <td>0.820000</td>\n",
       "      <td>0.817381</td>\n",
       "      <td>...</td>\n",
       "      <td>0.818905</td>\n",
       "      <td>0.001377</td>\n",
       "      <td>1</td>\n",
       "      <td>0.821369</td>\n",
       "      <td>0.820179</td>\n",
       "      <td>0.821726</td>\n",
       "      <td>0.821369</td>\n",
       "      <td>0.821131</td>\n",
       "      <td>0.821155</td>\n",
       "      <td>0.000524</td>\n",
       "    </tr>\n",
       "    <tr>\n",
       "      <th>2</th>\n",
       "      <td>4.407098</td>\n",
       "      <td>0.047103</td>\n",
       "      <td>0.044853</td>\n",
       "      <td>0.001680</td>\n",
       "      <td>14</td>\n",
       "      <td>{'max_features': 14}</td>\n",
       "      <td>0.817619</td>\n",
       "      <td>0.821429</td>\n",
       "      <td>0.817857</td>\n",
       "      <td>0.816429</td>\n",
       "      <td>...</td>\n",
       "      <td>0.818571</td>\n",
       "      <td>0.001737</td>\n",
       "      <td>4</td>\n",
       "      <td>0.822321</td>\n",
       "      <td>0.820952</td>\n",
       "      <td>0.821726</td>\n",
       "      <td>0.822321</td>\n",
       "      <td>0.821310</td>\n",
       "      <td>0.821726</td>\n",
       "      <td>0.000544</td>\n",
       "    </tr>\n",
       "    <tr>\n",
       "      <th>3</th>\n",
       "      <td>6.305623</td>\n",
       "      <td>0.244528</td>\n",
       "      <td>0.045967</td>\n",
       "      <td>0.002065</td>\n",
       "      <td>20</td>\n",
       "      <td>{'max_features': 20}</td>\n",
       "      <td>0.817619</td>\n",
       "      <td>0.821905</td>\n",
       "      <td>0.819762</td>\n",
       "      <td>0.815476</td>\n",
       "      <td>...</td>\n",
       "      <td>0.818619</td>\n",
       "      <td>0.002148</td>\n",
       "      <td>3</td>\n",
       "      <td>0.822262</td>\n",
       "      <td>0.820774</td>\n",
       "      <td>0.821369</td>\n",
       "      <td>0.822798</td>\n",
       "      <td>0.821964</td>\n",
       "      <td>0.821833</td>\n",
       "      <td>0.000703</td>\n",
       "    </tr>\n",
       "    <tr>\n",
       "      <th>4</th>\n",
       "      <td>7.389289</td>\n",
       "      <td>0.102200</td>\n",
       "      <td>0.047579</td>\n",
       "      <td>0.004154</td>\n",
       "      <td>24</td>\n",
       "      <td>{'max_features': 24}</td>\n",
       "      <td>0.818095</td>\n",
       "      <td>0.821667</td>\n",
       "      <td>0.819762</td>\n",
       "      <td>0.815000</td>\n",
       "      <td>...</td>\n",
       "      <td>0.818667</td>\n",
       "      <td>0.002190</td>\n",
       "      <td>2</td>\n",
       "      <td>0.822976</td>\n",
       "      <td>0.821250</td>\n",
       "      <td>0.821726</td>\n",
       "      <td>0.823214</td>\n",
       "      <td>0.822976</td>\n",
       "      <td>0.822429</td>\n",
       "      <td>0.000787</td>\n",
       "    </tr>\n",
       "  </tbody>\n",
       "</table>\n",
       "<p>5 rows × 21 columns</p>\n",
       "</div>\n",
       "      <button class=\"colab-df-convert\" onclick=\"convertToInteractive('df-50fd1839-8786-4bdd-9cea-2c5967eca095')\"\n",
       "              title=\"Convert this dataframe to an interactive table.\"\n",
       "              style=\"display:none;\">\n",
       "        \n",
       "  <svg xmlns=\"http://www.w3.org/2000/svg\" height=\"24px\"viewBox=\"0 0 24 24\"\n",
       "       width=\"24px\">\n",
       "    <path d=\"M0 0h24v24H0V0z\" fill=\"none\"/>\n",
       "    <path d=\"M18.56 5.44l.94 2.06.94-2.06 2.06-.94-2.06-.94-.94-2.06-.94 2.06-2.06.94zm-11 1L8.5 8.5l.94-2.06 2.06-.94-2.06-.94L8.5 2.5l-.94 2.06-2.06.94zm10 10l.94 2.06.94-2.06 2.06-.94-2.06-.94-.94-2.06-.94 2.06-2.06.94z\"/><path d=\"M17.41 7.96l-1.37-1.37c-.4-.4-.92-.59-1.43-.59-.52 0-1.04.2-1.43.59L10.3 9.45l-7.72 7.72c-.78.78-.78 2.05 0 2.83L4 21.41c.39.39.9.59 1.41.59.51 0 1.02-.2 1.41-.59l7.78-7.78 2.81-2.81c.8-.78.8-2.07 0-2.86zM5.41 20L4 18.59l7.72-7.72 1.47 1.35L5.41 20z\"/>\n",
       "  </svg>\n",
       "      </button>\n",
       "      \n",
       "  <style>\n",
       "    .colab-df-container {\n",
       "      display:flex;\n",
       "      flex-wrap:wrap;\n",
       "      gap: 12px;\n",
       "    }\n",
       "\n",
       "    .colab-df-convert {\n",
       "      background-color: #E8F0FE;\n",
       "      border: none;\n",
       "      border-radius: 50%;\n",
       "      cursor: pointer;\n",
       "      display: none;\n",
       "      fill: #1967D2;\n",
       "      height: 32px;\n",
       "      padding: 0 0 0 0;\n",
       "      width: 32px;\n",
       "    }\n",
       "\n",
       "    .colab-df-convert:hover {\n",
       "      background-color: #E2EBFA;\n",
       "      box-shadow: 0px 1px 2px rgba(60, 64, 67, 0.3), 0px 1px 3px 1px rgba(60, 64, 67, 0.15);\n",
       "      fill: #174EA6;\n",
       "    }\n",
       "\n",
       "    [theme=dark] .colab-df-convert {\n",
       "      background-color: #3B4455;\n",
       "      fill: #D2E3FC;\n",
       "    }\n",
       "\n",
       "    [theme=dark] .colab-df-convert:hover {\n",
       "      background-color: #434B5C;\n",
       "      box-shadow: 0px 1px 3px 1px rgba(0, 0, 0, 0.15);\n",
       "      filter: drop-shadow(0px 1px 2px rgba(0, 0, 0, 0.3));\n",
       "      fill: #FFFFFF;\n",
       "    }\n",
       "  </style>\n",
       "\n",
       "      <script>\n",
       "        const buttonEl =\n",
       "          document.querySelector('#df-50fd1839-8786-4bdd-9cea-2c5967eca095 button.colab-df-convert');\n",
       "        buttonEl.style.display =\n",
       "          google.colab.kernel.accessAllowed ? 'block' : 'none';\n",
       "\n",
       "        async function convertToInteractive(key) {\n",
       "          const element = document.querySelector('#df-50fd1839-8786-4bdd-9cea-2c5967eca095');\n",
       "          const dataTable =\n",
       "            await google.colab.kernel.invokeFunction('convertToInteractive',\n",
       "                                                     [key], {});\n",
       "          if (!dataTable) return;\n",
       "\n",
       "          const docLinkHtml = 'Like what you see? Visit the ' +\n",
       "            '<a target=\"_blank\" href=https://colab.research.google.com/notebooks/data_table.ipynb>data table notebook</a>'\n",
       "            + ' to learn more about interactive tables.';\n",
       "          element.innerHTML = '';\n",
       "          dataTable['output_type'] = 'display_data';\n",
       "          await google.colab.output.renderOutput(dataTable, element);\n",
       "          const docLink = document.createElement('div');\n",
       "          docLink.innerHTML = docLinkHtml;\n",
       "          element.appendChild(docLink);\n",
       "        }\n",
       "      </script>\n",
       "    </div>\n",
       "  </div>\n",
       "  "
      ],
      "text/plain": [
       "   mean_fit_time  std_fit_time  mean_score_time  std_score_time  \\\n",
       "0       1.574738      0.031748         0.045487        0.002486   \n",
       "1       2.683688      0.033459         0.044589        0.002257   \n",
       "2       4.407098      0.047103         0.044853        0.001680   \n",
       "3       6.305623      0.244528         0.045967        0.002065   \n",
       "4       7.389289      0.102200         0.047579        0.004154   \n",
       "\n",
       "  param_max_features                params  split0_test_score  \\\n",
       "0                  4   {'max_features': 4}           0.812143   \n",
       "1                  8   {'max_features': 8}           0.817619   \n",
       "2                 14  {'max_features': 14}           0.817619   \n",
       "3                 20  {'max_features': 20}           0.817619   \n",
       "4                 24  {'max_features': 24}           0.818095   \n",
       "\n",
       "   split1_test_score  split2_test_score  split3_test_score  ...  \\\n",
       "0           0.813333           0.812619           0.805000  ...   \n",
       "1           0.820952           0.820000           0.817381  ...   \n",
       "2           0.821429           0.817857           0.816429  ...   \n",
       "3           0.821905           0.819762           0.815476  ...   \n",
       "4           0.821667           0.819762           0.815000  ...   \n",
       "\n",
       "   mean_test_score  std_test_score  rank_test_score  split0_train_score  \\\n",
       "0         0.810619        0.003021                5            0.811131   \n",
       "1         0.818905        0.001377                1            0.821369   \n",
       "2         0.818571        0.001737                4            0.822321   \n",
       "3         0.818619        0.002148                3            0.822262   \n",
       "4         0.818667        0.002190                2            0.822976   \n",
       "\n",
       "   split1_train_score  split2_train_score  split3_train_score  \\\n",
       "0            0.809643            0.812976            0.813214   \n",
       "1            0.820179            0.821726            0.821369   \n",
       "2            0.820952            0.821726            0.822321   \n",
       "3            0.820774            0.821369            0.822798   \n",
       "4            0.821250            0.821726            0.823214   \n",
       "\n",
       "   split4_train_score  mean_train_score  std_train_score  \n",
       "0            0.813631          0.812119         0.001505  \n",
       "1            0.821131          0.821155         0.000524  \n",
       "2            0.821310          0.821726         0.000544  \n",
       "3            0.821964          0.821833         0.000703  \n",
       "4            0.822976          0.822429         0.000787  \n",
       "\n",
       "[5 rows x 21 columns]"
      ]
     },
     "execution_count": 24,
     "metadata": {},
     "output_type": "execute_result"
    }
   ],
   "source": [
    "# scores of GridSearch CV\n",
    "scores = Rf.cv_results_\n",
    "\n",
    "\n",
    "# convert scores into dataframe and print head\n",
    "pd.DataFrame(scores).head()\n",
    "\n",
    "\n"
   ]
  },
  {
   "cell_type": "code",
   "execution_count": 25,
   "metadata": {
    "colab": {
     "base_uri": "https://localhost:8080/",
     "height": 280
    },
    "id": "TUdLl9fhHWXr",
    "outputId": "8433f02e-9bf6-4f59-807a-06553bd4b9a7"
   },
   "outputs": [
    {
     "data": {
      "image/png": "[encoded data removed]",
      "text/plain": [
       "<Figure size 432x288 with 1 Axes>"
      ]
     },
     "metadata": {
      "needs_background": "light"
     },
     "output_type": "display_data"
    }
   ],
   "source": [
    "# plotting accuracies with max_features\n",
    "plt.figure()\n",
    "#code below\n",
    "plt.plot(scores['param_max_features'],scores['mean_train_score'],label='training accuracy')\n",
    "plt.plot(scores['param_max_features'],scores['mean_test_score'],label='test accuracy')\n",
    "plt.legend()\n",
    "plt.xlabel('max_features')\n",
    "plt.ylabel('Accuracy')\n",
    "\n",
    "plt.show()\n"
   ]
  },
  {
   "cell_type": "markdown",
   "metadata": {
    "id": "0WBec3DtHWXr"
   },
   "source": [
    "\n",
    "\n",
    "### **`Tuning min_samples_leaf`**"
   ]
  },
  {
   "cell_type": "code",
   "execution_count": 26,
   "metadata": {
    "colab": {
     "base_uri": "https://localhost:8080/"
    },
    "id": "KSN6tEYjHWXr",
    "outputId": "bc27f773-829b-4476-92e6-9b5e026bc7e2"
   },
   "outputs": [
    {
     "data": {
      "text/plain": [
       "GridSearchCV(cv=5, estimator=RandomForestClassifier(random_state=1),\n",
       "             param_grid={'min_samples_leaf': range(100, 400, 50)},\n",
       "             return_train_score=True, scoring='accuracy')"
      ]
     },
     "execution_count": 26,
     "metadata": {},
     "output_type": "execute_result"
    }
   ],
   "source": [
    "\n",
    "# parameters to build the model on min_samples_leaf of range(100, 400, 50)\n",
    "parameters = {'min_samples_leaf':range(100,400,50)}\n",
    "\n",
    "\n",
    "\n",
    "# instantiate the model (not specifying any max_depth) and random_state as 1\n",
    "rf = RandomForestClassifier(random_state=1)\n",
    "\n",
    "\n",
    "\n",
    "\n",
    "# Instantiate GridSearchCVwith rf, parameter, cv and scoring as accuracy and return_train_score as True\n",
    "Rf =GridSearchCV(rf,parameters,cv=n_folds,scoring='accuracy',return_train_score=True) \n",
    "\n",
    "\n",
    "\n",
    "\n",
    "\n",
    "# fit tree on training data\n",
    "Rf.fit(X_train,y_train)\n",
    "\n",
    "\n",
    "\n",
    "\n"
   ]
  },
  {
   "cell_type": "code",
   "execution_count": 27,
   "metadata": {
    "colab": {
     "base_uri": "https://localhost:8080/",
     "height": 386
    },
    "id": "kvmH0Kl3HWXr",
    "outputId": "29511edc-b203-4cd1-92ca-ff619755bab3"
   },
   "outputs": [
    {
     "data": {
      "text/html": [
       "\n",
       "  <div id=\"df-ab768e78-fc10-444a-8075-426839613963\">\n",
       "    <div class=\"colab-df-container\">\n",
       "      <div>\n",
       "<style scoped>\n",
       "    .dataframe tbody tr th:only-of-type {\n",
       "        vertical-align: middle;\n",
       "    }\n",
       "\n",
       "    .dataframe tbody tr th {\n",
       "        vertical-align: top;\n",
       "    }\n",
       "\n",
       "    .dataframe thead th {\n",
       "        text-align: right;\n",
       "    }\n",
       "</style>\n",
       "<table border=\"1\" class=\"dataframe\">\n",
       "  <thead>\n",
       "    <tr style=\"text-align: right;\">\n",
       "      <th></th>\n",
       "      <th>mean_fit_time</th>\n",
       "      <th>std_fit_time</th>\n",
       "      <th>mean_score_time</th>\n",
       "      <th>std_score_time</th>\n",
       "      <th>param_min_samples_leaf</th>\n",
       "      <th>params</th>\n",
       "      <th>split0_test_score</th>\n",
       "      <th>split1_test_score</th>\n",
       "      <th>split2_test_score</th>\n",
       "      <th>split3_test_score</th>\n",
       "      <th>...</th>\n",
       "      <th>mean_test_score</th>\n",
       "      <th>std_test_score</th>\n",
       "      <th>rank_test_score</th>\n",
       "      <th>split0_train_score</th>\n",
       "      <th>split1_train_score</th>\n",
       "      <th>split2_train_score</th>\n",
       "      <th>split3_train_score</th>\n",
       "      <th>split4_train_score</th>\n",
       "      <th>mean_train_score</th>\n",
       "      <th>std_train_score</th>\n",
       "    </tr>\n",
       "  </thead>\n",
       "  <tbody>\n",
       "    <tr>\n",
       "      <th>0</th>\n",
       "      <td>2.919300</td>\n",
       "      <td>0.069787</td>\n",
       "      <td>0.071556</td>\n",
       "      <td>0.003642</td>\n",
       "      <td>100</td>\n",
       "      <td>{'min_samples_leaf': 100}</td>\n",
       "      <td>0.815238</td>\n",
       "      <td>0.817857</td>\n",
       "      <td>0.815238</td>\n",
       "      <td>0.811667</td>\n",
       "      <td>...</td>\n",
       "      <td>0.814286</td>\n",
       "      <td>0.002433</td>\n",
       "      <td>1</td>\n",
       "      <td>0.817679</td>\n",
       "      <td>0.816012</td>\n",
       "      <td>0.816964</td>\n",
       "      <td>0.817619</td>\n",
       "      <td>0.818333</td>\n",
       "      <td>0.817321</td>\n",
       "      <td>0.000785</td>\n",
       "    </tr>\n",
       "    <tr>\n",
       "      <th>1</th>\n",
       "      <td>2.741343</td>\n",
       "      <td>0.245991</td>\n",
       "      <td>0.066452</td>\n",
       "      <td>0.003415</td>\n",
       "      <td>150</td>\n",
       "      <td>{'min_samples_leaf': 150}</td>\n",
       "      <td>0.812381</td>\n",
       "      <td>0.814524</td>\n",
       "      <td>0.812381</td>\n",
       "      <td>0.808095</td>\n",
       "      <td>...</td>\n",
       "      <td>0.811095</td>\n",
       "      <td>0.002571</td>\n",
       "      <td>2</td>\n",
       "      <td>0.810952</td>\n",
       "      <td>0.812262</td>\n",
       "      <td>0.812500</td>\n",
       "      <td>0.814702</td>\n",
       "      <td>0.812560</td>\n",
       "      <td>0.812595</td>\n",
       "      <td>0.001205</td>\n",
       "    </tr>\n",
       "    <tr>\n",
       "      <th>2</th>\n",
       "      <td>2.438431</td>\n",
       "      <td>0.029138</td>\n",
       "      <td>0.062133</td>\n",
       "      <td>0.001501</td>\n",
       "      <td>200</td>\n",
       "      <td>{'min_samples_leaf': 200}</td>\n",
       "      <td>0.810952</td>\n",
       "      <td>0.811429</td>\n",
       "      <td>0.811190</td>\n",
       "      <td>0.805476</td>\n",
       "      <td>...</td>\n",
       "      <td>0.809429</td>\n",
       "      <td>0.002316</td>\n",
       "      <td>3</td>\n",
       "      <td>0.808810</td>\n",
       "      <td>0.809821</td>\n",
       "      <td>0.809583</td>\n",
       "      <td>0.811131</td>\n",
       "      <td>0.811845</td>\n",
       "      <td>0.810238</td>\n",
       "      <td>0.001098</td>\n",
       "    </tr>\n",
       "    <tr>\n",
       "      <th>3</th>\n",
       "      <td>2.263952</td>\n",
       "      <td>0.034204</td>\n",
       "      <td>0.061696</td>\n",
       "      <td>0.007067</td>\n",
       "      <td>250</td>\n",
       "      <td>{'min_samples_leaf': 250}</td>\n",
       "      <td>0.810952</td>\n",
       "      <td>0.811429</td>\n",
       "      <td>0.809762</td>\n",
       "      <td>0.803571</td>\n",
       "      <td>...</td>\n",
       "      <td>0.808524</td>\n",
       "      <td>0.002933</td>\n",
       "      <td>4</td>\n",
       "      <td>0.808631</td>\n",
       "      <td>0.808155</td>\n",
       "      <td>0.810298</td>\n",
       "      <td>0.810298</td>\n",
       "      <td>0.810714</td>\n",
       "      <td>0.809619</td>\n",
       "      <td>0.001024</td>\n",
       "    </tr>\n",
       "    <tr>\n",
       "      <th>4</th>\n",
       "      <td>2.134132</td>\n",
       "      <td>0.034805</td>\n",
       "      <td>0.057119</td>\n",
       "      <td>0.001153</td>\n",
       "      <td>300</td>\n",
       "      <td>{'min_samples_leaf': 300}</td>\n",
       "      <td>0.809286</td>\n",
       "      <td>0.809524</td>\n",
       "      <td>0.808810</td>\n",
       "      <td>0.804762</td>\n",
       "      <td>...</td>\n",
       "      <td>0.807476</td>\n",
       "      <td>0.002133</td>\n",
       "      <td>5</td>\n",
       "      <td>0.807798</td>\n",
       "      <td>0.806429</td>\n",
       "      <td>0.808750</td>\n",
       "      <td>0.808988</td>\n",
       "      <td>0.808869</td>\n",
       "      <td>0.808167</td>\n",
       "      <td>0.000966</td>\n",
       "    </tr>\n",
       "  </tbody>\n",
       "</table>\n",
       "<p>5 rows × 21 columns</p>\n",
       "</div>\n",
       "      <button class=\"colab-df-convert\" onclick=\"convertToInteractive('df-ab768e78-fc10-444a-8075-426839613963')\"\n",
       "              title=\"Convert this dataframe to an interactive table.\"\n",
       "              style=\"display:none;\">\n",
       "        \n",
       "  <svg xmlns=\"http://www.w3.org/2000/svg\" height=\"24px\"viewBox=\"0 0 24 24\"\n",
       "       width=\"24px\">\n",
       "    <path d=\"M0 0h24v24H0V0z\" fill=\"none\"/>\n",
       "    <path d=\"M18.56 5.44l.94 2.06.94-2.06 2.06-.94-2.06-.94-.94-2.06-.94 2.06-2.06.94zm-11 1L8.5 8.5l.94-2.06 2.06-.94-2.06-.94L8.5 2.5l-.94 2.06-2.06.94zm10 10l.94 2.06.94-2.06 2.06-.94-2.06-.94-.94-2.06-.94 2.06-2.06.94z\"/><path d=\"M17.41 7.96l-1.37-1.37c-.4-.4-.92-.59-1.43-.59-.52 0-1.04.2-1.43.59L10.3 9.45l-7.72 7.72c-.78.78-.78 2.05 0 2.83L4 21.41c.39.39.9.59 1.41.59.51 0 1.02-.2 1.41-.59l7.78-7.78 2.81-2.81c.8-.78.8-2.07 0-2.86zM5.41 20L4 18.59l7.72-7.72 1.47 1.35L5.41 20z\"/>\n",
       "  </svg>\n",
       "      </button>\n",
       "      \n",
       "  <style>\n",
       "    .colab-df-container {\n",
       "      display:flex;\n",
       "      flex-wrap:wrap;\n",
       "      gap: 12px;\n",
       "    }\n",
       "\n",
       "    .colab-df-convert {\n",
       "      background-color: #E8F0FE;\n",
       "      border: none;\n",
       "      border-radius: 50%;\n",
       "      cursor: pointer;\n",
       "      display: none;\n",
       "      fill: #1967D2;\n",
       "      height: 32px;\n",
       "      padding: 0 0 0 0;\n",
       "      width: 32px;\n",
       "    }\n",
       "\n",
       "    .colab-df-convert:hover {\n",
       "      background-color: #E2EBFA;\n",
       "      box-shadow: 0px 1px 2px rgba(60, 64, 67, 0.3), 0px 1px 3px 1px rgba(60, 64, 67, 0.15);\n",
       "      fill: #174EA6;\n",
       "    }\n",
       "\n",
       "    [theme=dark] .colab-df-convert {\n",
       "      background-color: #3B4455;\n",
       "      fill: #D2E3FC;\n",
       "    }\n",
       "\n",
       "    [theme=dark] .colab-df-convert:hover {\n",
       "      background-color: #434B5C;\n",
       "      box-shadow: 0px 1px 3px 1px rgba(0, 0, 0, 0.15);\n",
       "      filter: drop-shadow(0px 1px 2px rgba(0, 0, 0, 0.3));\n",
       "      fill: #FFFFFF;\n",
       "    }\n",
       "  </style>\n",
       "\n",
       "      <script>\n",
       "        const buttonEl =\n",
       "          document.querySelector('#df-ab768e78-fc10-444a-8075-426839613963 button.colab-df-convert');\n",
       "        buttonEl.style.display =\n",
       "          google.colab.kernel.accessAllowed ? 'block' : 'none';\n",
       "\n",
       "        async function convertToInteractive(key) {\n",
       "          const element = document.querySelector('#df-ab768e78-fc10-444a-8075-426839613963');\n",
       "          const dataTable =\n",
       "            await google.colab.kernel.invokeFunction('convertToInteractive',\n",
       "                                                     [key], {});\n",
       "          if (!dataTable) return;\n",
       "\n",
       "          const docLinkHtml = 'Like what you see? Visit the ' +\n",
       "            '<a target=\"_blank\" href=https://colab.research.google.com/notebooks/data_table.ipynb>data table notebook</a>'\n",
       "            + ' to learn more about interactive tables.';\n",
       "          element.innerHTML = '';\n",
       "          dataTable['output_type'] = 'display_data';\n",
       "          await google.colab.output.renderOutput(dataTable, element);\n",
       "          const docLink = document.createElement('div');\n",
       "          docLink.innerHTML = docLinkHtml;\n",
       "          element.appendChild(docLink);\n",
       "        }\n",
       "      </script>\n",
       "    </div>\n",
       "  </div>\n",
       "  "
      ],
      "text/plain": [
       "   mean_fit_time  std_fit_time  mean_score_time  std_score_time  \\\n",
       "0       2.919300      0.069787         0.071556        0.003642   \n",
       "1       2.741343      0.245991         0.066452        0.003415   \n",
       "2       2.438431      0.029138         0.062133        0.001501   \n",
       "3       2.263952      0.034204         0.061696        0.007067   \n",
       "4       2.134132      0.034805         0.057119        0.001153   \n",
       "\n",
       "  param_min_samples_leaf                     params  split0_test_score  \\\n",
       "0                    100  {'min_samples_leaf': 100}           0.815238   \n",
       "1                    150  {'min_samples_leaf': 150}           0.812381   \n",
       "2                    200  {'min_samples_leaf': 200}           0.810952   \n",
       "3                    250  {'min_samples_leaf': 250}           0.810952   \n",
       "4                    300  {'min_samples_leaf': 300}           0.809286   \n",
       "\n",
       "   split1_test_score  split2_test_score  split3_test_score  ...  \\\n",
       "0           0.817857           0.815238           0.811667  ...   \n",
       "1           0.814524           0.812381           0.808095  ...   \n",
       "2           0.811429           0.811190           0.805476  ...   \n",
       "3           0.811429           0.809762           0.803571  ...   \n",
       "4           0.809524           0.808810           0.804762  ...   \n",
       "\n",
       "   mean_test_score  std_test_score  rank_test_score  split0_train_score  \\\n",
       "0         0.814286        0.002433                1            0.817679   \n",
       "1         0.811095        0.002571                2            0.810952   \n",
       "2         0.809429        0.002316                3            0.808810   \n",
       "3         0.808524        0.002933                4            0.808631   \n",
       "4         0.807476        0.002133                5            0.807798   \n",
       "\n",
       "   split1_train_score  split2_train_score  split3_train_score  \\\n",
       "0            0.816012            0.816964            0.817619   \n",
       "1            0.812262            0.812500            0.814702   \n",
       "2            0.809821            0.809583            0.811131   \n",
       "3            0.808155            0.810298            0.810298   \n",
       "4            0.806429            0.808750            0.808988   \n",
       "\n",
       "   split4_train_score  mean_train_score  std_train_score  \n",
       "0            0.818333          0.817321         0.000785  \n",
       "1            0.812560          0.812595         0.001205  \n",
       "2            0.811845          0.810238         0.001098  \n",
       "3            0.810714          0.809619         0.001024  \n",
       "4            0.808869          0.808167         0.000966  \n",
       "\n",
       "[5 rows x 21 columns]"
      ]
     },
     "execution_count": 27,
     "metadata": {},
     "output_type": "execute_result"
    }
   ],
   "source": [
    "# scores of GridSearch CV\n",
    "scores = Rf.cv_results_\n",
    "\n",
    "\n",
    "# convert scores into df and print\n",
    "pd.DataFrame(scores).head()\n",
    "\n",
    "\n"
   ]
  },
  {
   "cell_type": "code",
   "execution_count": 28,
   "metadata": {
    "colab": {
     "base_uri": "https://localhost:8080/",
     "height": 280
    },
    "id": "ISjd_QPjHWXs",
    "outputId": "a189ebb5-ad1e-4fa7-de8e-951f4b3f7c07"
   },
   "outputs": [
    {
     "data": {
      "image/png": "[encoded data removed]",
      "text/plain": [
       "<Figure size 432x288 with 1 Axes>"
      ]
     },
     "metadata": {
      "needs_background": "light"
     },
     "output_type": "display_data"
    }
   ],
   "source": [
    "# plotting accuracies with min_samples_leaf\n",
    "plt.figure()\n",
    "\n",
    "# code below\n",
    "plt.plot(scores['param_min_samples_leaf'],scores['mean_train_score'],label='training accuracy')\n",
    "plt.plot(scores['param_min_samples_leaf'],scores['mean_test_score'],label='test accuracy')\n",
    "plt.legend()\n",
    "plt.xlabel('min_samples_leaf')\n",
    "plt.ylabel('Accuracy')\n",
    "\n",
    "\n",
    "\n",
    "\n",
    "plt.show()"
   ]
  },
  {
   "cell_type": "markdown",
   "metadata": {
    "id": "FCtJx7cDHWXs"
   },
   "source": [
    "\n",
    "\n",
    "### **`Tuning min_samples_split`**\n",
    "\n",
    "\n",
    "\n"
   ]
  },
  {
   "cell_type": "code",
   "execution_count": 29,
   "metadata": {
    "colab": {
     "base_uri": "https://localhost:8080/"
    },
    "id": "A25ecfRrHWXs",
    "outputId": "b1c3befe-e2e0-4dd1-9fd2-8a83048bb5d2"
   },
   "outputs": [
    {
     "data": {
      "text/plain": [
       "GridSearchCV(cv=5, estimator=RandomForestClassifier(random_state=1),\n",
       "             param_grid={'min_samples_split': range(200, 500, 50)},\n",
       "             return_train_score=True, scoring='accuracy')"
      ]
     },
     "execution_count": 29,
     "metadata": {},
     "output_type": "execute_result"
    }
   ],
   "source": [
    "\n",
    "\n",
    "# parameters to build the model on (min_samples_split with range(200, 500, 50))\n",
    "parameters ={'min_samples_split':range(200,500,50)}\n",
    "\n",
    "\n",
    "\n",
    "# instantiate the model with random_state as 1\n",
    "rf = RandomForestClassifier(random_state=1)\n",
    "\n",
    "\n",
    "\n",
    "\n",
    "# Instantiate GridSearchCVwith rf, parameter, cv and scoring as accuracy and return_train_score as True\n",
    "Rf = GridSearchCV(rf,parameters,cv=n_folds,scoring='accuracy',return_train_score=True)\n",
    "\n",
    "\n",
    "\n",
    "\n",
    "#fitting model on training data\n",
    "\n",
    "Rf.fit(X_train,y_train)\n",
    "\n",
    "\n"
   ]
  },
  {
   "cell_type": "code",
   "execution_count": 31,
   "metadata": {
    "colab": {
     "base_uri": "https://localhost:8080/",
     "height": 386
    },
    "id": "oqDewR8LHWXs",
    "outputId": "bce431ae-d944-4353-e195-ca7b4868597b"
   },
   "outputs": [
    {
     "data": {
      "text/html": [
       "\n",
       "  <div id=\"df-0a4fc6f9-f5b9-47a5-82b5-3edced1e8041\">\n",
       "    <div class=\"colab-df-container\">\n",
       "      <div>\n",
       "<style scoped>\n",
       "    .dataframe tbody tr th:only-of-type {\n",
       "        vertical-align: middle;\n",
       "    }\n",
       "\n",
       "    .dataframe tbody tr th {\n",
       "        vertical-align: top;\n",
       "    }\n",
       "\n",
       "    .dataframe thead th {\n",
       "        text-align: right;\n",
       "    }\n",
       "</style>\n",
       "<table border=\"1\" class=\"dataframe\">\n",
       "  <thead>\n",
       "    <tr style=\"text-align: right;\">\n",
       "      <th></th>\n",
       "      <th>mean_fit_time</th>\n",
       "      <th>std_fit_time</th>\n",
       "      <th>mean_score_time</th>\n",
       "      <th>std_score_time</th>\n",
       "      <th>param_min_samples_split</th>\n",
       "      <th>params</th>\n",
       "      <th>split0_test_score</th>\n",
       "      <th>split1_test_score</th>\n",
       "      <th>split2_test_score</th>\n",
       "      <th>split3_test_score</th>\n",
       "      <th>...</th>\n",
       "      <th>mean_test_score</th>\n",
       "      <th>std_test_score</th>\n",
       "      <th>rank_test_score</th>\n",
       "      <th>split0_train_score</th>\n",
       "      <th>split1_train_score</th>\n",
       "      <th>split2_train_score</th>\n",
       "      <th>split3_train_score</th>\n",
       "      <th>split4_train_score</th>\n",
       "      <th>mean_train_score</th>\n",
       "      <th>std_train_score</th>\n",
       "    </tr>\n",
       "  </thead>\n",
       "  <tbody>\n",
       "    <tr>\n",
       "      <th>0</th>\n",
       "      <td>3.854718</td>\n",
       "      <td>0.038964</td>\n",
       "      <td>0.077943</td>\n",
       "      <td>0.003697</td>\n",
       "      <td>200</td>\n",
       "      <td>{'min_samples_split': 200}</td>\n",
       "      <td>0.818571</td>\n",
       "      <td>0.820714</td>\n",
       "      <td>0.820714</td>\n",
       "      <td>0.817381</td>\n",
       "      <td>...</td>\n",
       "      <td>0.819190</td>\n",
       "      <td>0.001318</td>\n",
       "      <td>1</td>\n",
       "      <td>0.824286</td>\n",
       "      <td>0.823333</td>\n",
       "      <td>0.823274</td>\n",
       "      <td>0.824048</td>\n",
       "      <td>0.823988</td>\n",
       "      <td>0.823786</td>\n",
       "      <td>0.000407</td>\n",
       "    </tr>\n",
       "    <tr>\n",
       "      <th>1</th>\n",
       "      <td>3.693939</td>\n",
       "      <td>0.026353</td>\n",
       "      <td>0.075073</td>\n",
       "      <td>0.003284</td>\n",
       "      <td>250</td>\n",
       "      <td>{'min_samples_split': 250}</td>\n",
       "      <td>0.818810</td>\n",
       "      <td>0.821667</td>\n",
       "      <td>0.820000</td>\n",
       "      <td>0.816905</td>\n",
       "      <td>...</td>\n",
       "      <td>0.819143</td>\n",
       "      <td>0.001605</td>\n",
       "      <td>2</td>\n",
       "      <td>0.822321</td>\n",
       "      <td>0.821607</td>\n",
       "      <td>0.822976</td>\n",
       "      <td>0.822976</td>\n",
       "      <td>0.823274</td>\n",
       "      <td>0.822631</td>\n",
       "      <td>0.000599</td>\n",
       "    </tr>\n",
       "    <tr>\n",
       "      <th>2</th>\n",
       "      <td>3.689075</td>\n",
       "      <td>0.136177</td>\n",
       "      <td>0.076292</td>\n",
       "      <td>0.007857</td>\n",
       "      <td>300</td>\n",
       "      <td>{'min_samples_split': 300}</td>\n",
       "      <td>0.817381</td>\n",
       "      <td>0.821667</td>\n",
       "      <td>0.822143</td>\n",
       "      <td>0.816667</td>\n",
       "      <td>...</td>\n",
       "      <td>0.818714</td>\n",
       "      <td>0.002662</td>\n",
       "      <td>3</td>\n",
       "      <td>0.821667</td>\n",
       "      <td>0.821131</td>\n",
       "      <td>0.821726</td>\n",
       "      <td>0.821964</td>\n",
       "      <td>0.822679</td>\n",
       "      <td>0.821833</td>\n",
       "      <td>0.000503</td>\n",
       "    </tr>\n",
       "    <tr>\n",
       "      <th>3</th>\n",
       "      <td>3.432945</td>\n",
       "      <td>0.054204</td>\n",
       "      <td>0.069254</td>\n",
       "      <td>0.001751</td>\n",
       "      <td>350</td>\n",
       "      <td>{'min_samples_split': 350}</td>\n",
       "      <td>0.817857</td>\n",
       "      <td>0.821429</td>\n",
       "      <td>0.820714</td>\n",
       "      <td>0.815714</td>\n",
       "      <td>...</td>\n",
       "      <td>0.818190</td>\n",
       "      <td>0.002522</td>\n",
       "      <td>6</td>\n",
       "      <td>0.820119</td>\n",
       "      <td>0.820833</td>\n",
       "      <td>0.820655</td>\n",
       "      <td>0.822440</td>\n",
       "      <td>0.821726</td>\n",
       "      <td>0.821155</td>\n",
       "      <td>0.000825</td>\n",
       "    </tr>\n",
       "    <tr>\n",
       "      <th>4</th>\n",
       "      <td>3.341444</td>\n",
       "      <td>0.048825</td>\n",
       "      <td>0.068421</td>\n",
       "      <td>0.002003</td>\n",
       "      <td>400</td>\n",
       "      <td>{'min_samples_split': 400}</td>\n",
       "      <td>0.816905</td>\n",
       "      <td>0.820476</td>\n",
       "      <td>0.820952</td>\n",
       "      <td>0.815952</td>\n",
       "      <td>...</td>\n",
       "      <td>0.818381</td>\n",
       "      <td>0.001983</td>\n",
       "      <td>4</td>\n",
       "      <td>0.819762</td>\n",
       "      <td>0.819881</td>\n",
       "      <td>0.820298</td>\n",
       "      <td>0.820476</td>\n",
       "      <td>0.821071</td>\n",
       "      <td>0.820298</td>\n",
       "      <td>0.000467</td>\n",
       "    </tr>\n",
       "  </tbody>\n",
       "</table>\n",
       "<p>5 rows × 21 columns</p>\n",
       "</div>\n",
       "      <button class=\"colab-df-convert\" onclick=\"convertToInteractive('df-0a4fc6f9-f5b9-47a5-82b5-3edced1e8041')\"\n",
       "              title=\"Convert this dataframe to an interactive table.\"\n",
       "              style=\"display:none;\">\n",
       "        \n",
       "  <svg xmlns=\"http://www.w3.org/2000/svg\" height=\"24px\"viewBox=\"0 0 24 24\"\n",
       "       width=\"24px\">\n",
       "    <path d=\"M0 0h24v24H0V0z\" fill=\"none\"/>\n",
       "    <path d=\"M18.56 5.44l.94 2.06.94-2.06 2.06-.94-2.06-.94-.94-2.06-.94 2.06-2.06.94zm-11 1L8.5 8.5l.94-2.06 2.06-.94-2.06-.94L8.5 2.5l-.94 2.06-2.06.94zm10 10l.94 2.06.94-2.06 2.06-.94-2.06-.94-.94-2.06-.94 2.06-2.06.94z\"/><path d=\"M17.41 7.96l-1.37-1.37c-.4-.4-.92-.59-1.43-.59-.52 0-1.04.2-1.43.59L10.3 9.45l-7.72 7.72c-.78.78-.78 2.05 0 2.83L4 21.41c.39.39.9.59 1.41.59.51 0 1.02-.2 1.41-.59l7.78-7.78 2.81-2.81c.8-.78.8-2.07 0-2.86zM5.41 20L4 18.59l7.72-7.72 1.47 1.35L5.41 20z\"/>\n",
       "  </svg>\n",
       "      </button>\n",
       "      \n",
       "  <style>\n",
       "    .colab-df-container {\n",
       "      display:flex;\n",
       "      flex-wrap:wrap;\n",
       "      gap: 12px;\n",
       "    }\n",
       "\n",
       "    .colab-df-convert {\n",
       "      background-color: #E8F0FE;\n",
       "      border: none;\n",
       "      border-radius: 50%;\n",
       "      cursor: pointer;\n",
       "      display: none;\n",
       "      fill: #1967D2;\n",
       "      height: 32px;\n",
       "      padding: 0 0 0 0;\n",
       "      width: 32px;\n",
       "    }\n",
       "\n",
       "    .colab-df-convert:hover {\n",
       "      background-color: #E2EBFA;\n",
       "      box-shadow: 0px 1px 2px rgba(60, 64, 67, 0.3), 0px 1px 3px 1px rgba(60, 64, 67, 0.15);\n",
       "      fill: #174EA6;\n",
       "    }\n",
       "\n",
       "    [theme=dark] .colab-df-convert {\n",
       "      background-color: #3B4455;\n",
       "      fill: #D2E3FC;\n",
       "    }\n",
       "\n",
       "    [theme=dark] .colab-df-convert:hover {\n",
       "      background-color: #434B5C;\n",
       "      box-shadow: 0px 1px 3px 1px rgba(0, 0, 0, 0.15);\n",
       "      filter: drop-shadow(0px 1px 2px rgba(0, 0, 0, 0.3));\n",
       "      fill: #FFFFFF;\n",
       "    }\n",
       "  </style>\n",
       "\n",
       "      <script>\n",
       "        const buttonEl =\n",
       "          document.querySelector('#df-0a4fc6f9-f5b9-47a5-82b5-3edced1e8041 button.colab-df-convert');\n",
       "        buttonEl.style.display =\n",
       "          google.colab.kernel.accessAllowed ? 'block' : 'none';\n",
       "\n",
       "        async function convertToInteractive(key) {\n",
       "          const element = document.querySelector('#df-0a4fc6f9-f5b9-47a5-82b5-3edced1e8041');\n",
       "          const dataTable =\n",
       "            await google.colab.kernel.invokeFunction('convertToInteractive',\n",
       "                                                     [key], {});\n",
       "          if (!dataTable) return;\n",
       "\n",
       "          const docLinkHtml = 'Like what you see? Visit the ' +\n",
       "            '<a target=\"_blank\" href=https://colab.research.google.com/notebooks/data_table.ipynb>data table notebook</a>'\n",
       "            + ' to learn more about interactive tables.';\n",
       "          element.innerHTML = '';\n",
       "          dataTable['output_type'] = 'display_data';\n",
       "          await google.colab.output.renderOutput(dataTable, element);\n",
       "          const docLink = document.createElement('div');\n",
       "          docLink.innerHTML = docLinkHtml;\n",
       "          element.appendChild(docLink);\n",
       "        }\n",
       "      </script>\n",
       "    </div>\n",
       "  </div>\n",
       "  "
      ],
      "text/plain": [
       "   mean_fit_time  std_fit_time  mean_score_time  std_score_time  \\\n",
       "0       3.854718      0.038964         0.077943        0.003697   \n",
       "1       3.693939      0.026353         0.075073        0.003284   \n",
       "2       3.689075      0.136177         0.076292        0.007857   \n",
       "3       3.432945      0.054204         0.069254        0.001751   \n",
       "4       3.341444      0.048825         0.068421        0.002003   \n",
       "\n",
       "  param_min_samples_split                      params  split0_test_score  \\\n",
       "0                     200  {'min_samples_split': 200}           0.818571   \n",
       "1                     250  {'min_samples_split': 250}           0.818810   \n",
       "2                     300  {'min_samples_split': 300}           0.817381   \n",
       "3                     350  {'min_samples_split': 350}           0.817857   \n",
       "4                     400  {'min_samples_split': 400}           0.816905   \n",
       "\n",
       "   split1_test_score  split2_test_score  split3_test_score  ...  \\\n",
       "0           0.820714           0.820714           0.817381  ...   \n",
       "1           0.821667           0.820000           0.816905  ...   \n",
       "2           0.821667           0.822143           0.816667  ...   \n",
       "3           0.821429           0.820714           0.815714  ...   \n",
       "4           0.820476           0.820952           0.815952  ...   \n",
       "\n",
       "   mean_test_score  std_test_score  rank_test_score  split0_train_score  \\\n",
       "0         0.819190        0.001318                1            0.824286   \n",
       "1         0.819143        0.001605                2            0.822321   \n",
       "2         0.818714        0.002662                3            0.821667   \n",
       "3         0.818190        0.002522                6            0.820119   \n",
       "4         0.818381        0.001983                4            0.819762   \n",
       "\n",
       "   split1_train_score  split2_train_score  split3_train_score  \\\n",
       "0            0.823333            0.823274            0.824048   \n",
       "1            0.821607            0.822976            0.822976   \n",
       "2            0.821131            0.821726            0.821964   \n",
       "3            0.820833            0.820655            0.822440   \n",
       "4            0.819881            0.820298            0.820476   \n",
       "\n",
       "   split4_train_score  mean_train_score  std_train_score  \n",
       "0            0.823988          0.823786         0.000407  \n",
       "1            0.823274          0.822631         0.000599  \n",
       "2            0.822679          0.821833         0.000503  \n",
       "3            0.821726          0.821155         0.000825  \n",
       "4            0.821071          0.820298         0.000467  \n",
       "\n",
       "[5 rows x 21 columns]"
      ]
     },
     "execution_count": 31,
     "metadata": {},
     "output_type": "execute_result"
    }
   ],
   "source": [
    "# scores of GridSearch CV\n",
    "scores =Rf.cv_results_ \n",
    "\n",
    "\n",
    "# convert scores into df and print head\n",
    "pd.DataFrame(scores).head()\n",
    "\n",
    "\n",
    "\n"
   ]
  },
  {
   "cell_type": "code",
   "execution_count": 32,
   "metadata": {
    "colab": {
     "base_uri": "https://localhost:8080/",
     "height": 282
    },
    "id": "t8QNpO7LHWXs",
    "outputId": "fea18f21-3a96-4d77-ca75-49f1c664587d"
   },
   "outputs": [
    {
     "data": {
      "image/png": "[encoded data removed]",
      "text/plain": [
       "<Figure size 432x288 with 1 Axes>"
      ]
     },
     "metadata": {
      "needs_background": "light"
     },
     "output_type": "display_data"
    }
   ],
   "source": [
    "# plotting accuracies with min_samples_split\n",
    "plt.figure()\n",
    "#code below\n",
    "\n",
    "plt.plot(scores['param_min_samples_split'],scores['mean_train_score'],label='training accuracy')\n",
    "plt.plot(scores['param_min_samples_split'],scores['mean_test_score'],label='test accuracy')\n",
    "plt.legend()\n",
    "plt.xlabel('min_samples_split')\n",
    "plt.ylabel('Accuracy')\n",
    "\n",
    "\n",
    "\n",
    "\n",
    "plt.show()"
   ]
  },
  {
   "cell_type": "markdown",
   "metadata": {
    "id": "rv5xf465HWXs"
   },
   "source": [
    "#### **`Random Search to Find Optimal Hyperparameters`**\n",
    "Finding the optimal hyperparameters using RandomizedSearchCV. \n",
    "\n",
    "with following  parameter values: \n",
    "\n",
    "`'max_depth': [4,8,10],\n",
    "'min_samples_leaf': range(100, 400, 200),\n",
    "'min_samples_split': range(200, 500, 200),\n",
    "'n_estimators': [100,200, 300], \n",
    "'max_features': [5, 10]`"
   ]
  },
  {
   "cell_type": "code",
   "execution_count": 33,
   "metadata": {
    "id": "5j1LDEZ7HWXs"
   },
   "outputs": [],
   "source": [
    "# import RandomizedSearchCV\n",
    "\n",
    "from sklearn.model_selection import RandomizedSearchCV\n",
    "\n",
    "\n",
    "\n",
    "# Create the parameter grid based on the results of random search \n",
    "param_grid = {'max_depth': [4,8,10], 'min_samples_leaf': range(100, 400, 200), 'min_samples_split': range(200, 500, 200), 'n_estimators': [100,200, 300], 'max_features': [5, 10]}\n",
    "\n",
    "\n",
    "\n",
    "\n",
    "# Create a based model (i.e RF) with random_state as 1\n",
    "rf = RandomForestClassifier(random_state=1)\n",
    "\n",
    "\n",
    "\n",
    "\n",
    "# Instantiate the radom search model with estimator, param_grid, and random_state as 1\n",
    "rs =RandomizedSearchCV(rf,param_grid,random_state=1)\n",
    "\n",
    "\n"
   ]
  },
  {
   "cell_type": "code",
   "execution_count": 34,
   "metadata": {
    "colab": {
     "base_uri": "https://localhost:8080/"
    },
    "id": "oHoHzBkUHWXt",
    "outputId": "0d3690d0-ccff-41c7-acd6-ffe152e7b7f9"
   },
   "outputs": [
    {
     "data": {
      "text/plain": [
       "RandomizedSearchCV(estimator=RandomForestClassifier(random_state=1),\n",
       "                   param_distributions={'max_depth': [4, 8, 10],\n",
       "                                        'max_features': [5, 10],\n",
       "                                        'min_samples_leaf': range(100, 400, 200),\n",
       "                                        'min_samples_split': range(200, 500, 200),\n",
       "                                        'n_estimators': [100, 200, 300]},\n",
       "                   random_state=1)"
      ]
     },
     "execution_count": 34,
     "metadata": {},
     "output_type": "execute_result"
    }
   ],
   "source": [
    "# Fit the grid search to the data\n",
    "\n",
    "rs.fit(X_train,y_train)\n",
    "\n",
    "\n"
   ]
  },
  {
   "cell_type": "code",
   "execution_count": 35,
   "metadata": {
    "colab": {
     "base_uri": "https://localhost:8080/"
    },
    "id": "KdKLr3jfHWXt",
    "outputId": "19185ec4-ac39-466a-df75-ded5df85bd80"
   },
   "outputs": [
    {
     "name": "stdout",
     "output_type": "stream",
     "text": [
      "We can get accuracy of 0.8179047619047619 using {'n_estimators': 100, 'min_samples_split': 400, 'min_samples_leaf': 100, 'max_features': 10, 'max_depth': 8}\n"
     ]
    }
   ],
   "source": [
    "# printing the optimal accuracy score and hyperparameters\n",
    "\n",
    "print('We can get accuracy of', rs.best_score_,'using',rs.best_params_)\n",
    "\n",
    "\n"
   ]
  },
  {
   "cell_type": "markdown",
   "metadata": {
    "id": "epWwLsqlHWXt"
   },
   "source": [
    "**Fitting the final model with the best parameters obtained from grid search.**"
   ]
  },
  {
   "cell_type": "code",
   "execution_count": 38,
   "metadata": {
    "id": "pOKWvYGAHWXt"
   },
   "outputs": [],
   "source": [
    "# Instantiate RF model with the best hyperparameters along with random_state as 1\n",
    "rfc = RandomForestClassifier(n_estimators= 100, min_samples_split= 400, min_samples_leaf=100, max_features= 10, max_depth= 8)\n",
    "\n",
    "\n",
    "\n",
    "\n"
   ]
  },
  {
   "cell_type": "code",
   "execution_count": 39,
   "metadata": {
    "colab": {
     "base_uri": "https://localhost:8080/"
    },
    "id": "uXkq229JHWXt",
    "outputId": "4f685560-9c9f-4205-ee7b-ccb0731b5656"
   },
   "outputs": [
    {
     "data": {
      "text/plain": [
       "RandomForestClassifier(max_depth=8, max_features=10, min_samples_leaf=100,\n",
       "                       min_samples_split=400)"
      ]
     },
     "execution_count": 39,
     "metadata": {},
     "output_type": "execute_result"
    }
   ],
   "source": [
    "# fit rfc on training data\n",
    "\n",
    "rfc.fit(X_train,y_train)\n",
    "\n",
    "\n"
   ]
  },
  {
   "cell_type": "code",
   "execution_count": 40,
   "metadata": {
    "id": "yb6EfPKtHWXt"
   },
   "outputs": [],
   "source": [
    "# predict\n",
    "predictions =rfc.predict(X_test) \n",
    "\n",
    "\n"
   ]
  },
  {
   "cell_type": "code",
   "execution_count": 41,
   "metadata": {
    "colab": {
     "base_uri": "https://localhost:8080/"
    },
    "id": "cMIIc-m-HWXt",
    "outputId": "1992e8ed-4ccd-4150-fd27-c880ffc12a6b"
   },
   "outputs": [
    {
     "name": "stdout",
     "output_type": "stream",
     "text": [
      "              precision    recall  f1-score   support\n",
      "\n",
      "           0       0.84      0.96      0.90      7058\n",
      "           1       0.69      0.36      0.47      1942\n",
      "\n",
      "    accuracy                           0.83      9000\n",
      "   macro avg       0.77      0.66      0.68      9000\n",
      "weighted avg       0.81      0.83      0.80      9000\n",
      "\n"
     ]
    }
   ],
   "source": [
    "# evaluation metrics using classification_report\n",
    "print(classification_report(y_test,predictions))\n",
    "\n",
    "\n",
    "\n"
   ]
  },
  {
   "cell_type": "code",
   "execution_count": 43,
   "metadata": {
    "colab": {
     "base_uri": "https://localhost:8080/"
    },
    "id": "Zlf2ucRFHWXt",
    "outputId": "00aafa23-dd68-4245-f628-acc2f86bd9cc"
   },
   "outputs": [
    {
     "name": "stdout",
     "output_type": "stream",
     "text": [
      "[[6744  314]\n",
      " [1247  695]]\n",
      "0.8265555555555556\n"
     ]
    }
   ],
   "source": [
    "#print confusion_matrix and \n",
    "\n",
    "print(confusion_matrix(y_test,predictions))\n",
    "\n",
    "\n",
    "\n",
    "#print accuracy\n",
    "\n",
    "print(accuracy_score(y_test,predictions))\n",
    "\n"
   ]
  },
  {
   "cell_type": "markdown",
   "metadata": {
    "id": "P3ml9JpWHWXu"
   },
   "source": [
    "### **` Extra Trees ALgorithm`**\n"
   ]
  },
  {
   "cell_type": "code",
   "execution_count": 44,
   "metadata": {
    "colab": {
     "base_uri": "https://localhost:8080/"
    },
    "id": "SGnVFDjGHWXu",
    "outputId": "d07cef98-3a42-485c-b3fb-ebda3bdf66ec"
   },
   "outputs": [
    {
     "data": {
      "text/plain": [
       "ExtraTreesClassifier(random_state=1)"
      ]
     },
     "execution_count": 44,
     "metadata": {},
     "output_type": "execute_result"
    }
   ],
   "source": [
    "# import ExtraTreesClassifier \n",
    "from sklearn.ensemble import ExtraTreesClassifier\n",
    "\n",
    "\n",
    "\n",
    "#Instantiate ExtraTreesClassifier with default parameters except random_state as 1\n",
    "et = ExtraTreesClassifier(random_state=1)\n",
    "\n",
    "\n",
    "#fitting model on training data\n",
    "\n",
    "et.fit(X_train,y_train)\n",
    "\n",
    "\n"
   ]
  },
  {
   "cell_type": "code",
   "execution_count": 45,
   "metadata": {
    "id": "K3LPZ6bCHWXu"
   },
   "outputs": [],
   "source": [
    "# Making predictions\n",
    "predictions = et.predict(X_test)\n",
    "\n",
    "\n"
   ]
  },
  {
   "cell_type": "code",
   "execution_count": 46,
   "metadata": {
    "colab": {
     "base_uri": "https://localhost:8080/"
    },
    "id": "PM9BnvElHWXu",
    "outputId": "9506ad26-029a-49b5-a9a7-ef5db4184469"
   },
   "outputs": [
    {
     "name": "stdout",
     "output_type": "stream",
     "text": [
      "              precision    recall  f1-score   support\n",
      "\n",
      "           0       0.84      0.94      0.89      7058\n",
      "           1       0.62      0.36      0.45      1942\n",
      "\n",
      "    accuracy                           0.81      9000\n",
      "   macro avg       0.73      0.65      0.67      9000\n",
      "weighted avg       0.79      0.81      0.79      9000\n",
      "\n"
     ]
    }
   ],
   "source": [
    "# Let's check the report of our default model\n",
    "\n",
    "print(classification_report(y_test,predictions))\n",
    "\n",
    "\n"
   ]
  },
  {
   "cell_type": "code",
   "execution_count": 47,
   "metadata": {
    "colab": {
     "base_uri": "https://localhost:8080/"
    },
    "id": "Svfm3S-NHWXu",
    "outputId": "c5d1369f-889a-4569-9ad9-28e650676b1f"
   },
   "outputs": [
    {
     "name": "stdout",
     "output_type": "stream",
     "text": [
      "[[6629  429]\n",
      " [1248  694]]\n"
     ]
    }
   ],
   "source": [
    "# Printing confusion matrix\n",
    "\n",
    "print(confusion_matrix(y_test,predictions))\n",
    "\n"
   ]
  },
  {
   "cell_type": "code",
   "execution_count": 48,
   "metadata": {
    "colab": {
     "base_uri": "https://localhost:8080/"
    },
    "id": "JA1hU8cpHWXu",
    "outputId": "f49bfa9d-5d0f-4f6c-a01f-3e14aa9c6eda"
   },
   "outputs": [
    {
     "name": "stdout",
     "output_type": "stream",
     "text": [
      "0.8136666666666666\n"
     ]
    }
   ],
   "source": [
    "#printing accuracy_score\n",
    "\n",
    "print(accuracy_score(y_test,predictions))\n",
    "\n",
    "\n"
   ]
  },
  {
   "cell_type": "markdown",
   "metadata": {
    "id": "dtibLiYwHWXu"
   },
   "source": [
    " we got 81 % accuracy here.\n",
    "\n",
    "##### Random Search to Find Optimal Hyperparameters\n"
   ]
  },
  {
   "cell_type": "code",
   "execution_count": 52,
   "metadata": {
    "colab": {
     "base_uri": "https://localhost:8080/"
    },
    "id": "_lydbtV2HWXv",
    "outputId": "633848b1-0642-44f6-d8c6-31c3a5b2b94b"
   },
   "outputs": [
    {
     "name": "stdout",
     "output_type": "stream",
     "text": [
      "0.8136666666666666\n"
     ]
    }
   ],
   "source": [
    "# Create the parameter grid similar to random forest\n",
    "\n",
    "\n",
    "param_grid = {'max_depth':[4,8,10],\n",
    "              'min_samples_leaf':range(100,400,200),\n",
    "              'min_samples_split':range(200,500,200),\n",
    "              'n_estimators':[100,200,300],\n",
    "              'max_features':[5,10]}\n",
    "\n",
    "\n",
    "\n",
    "\n",
    "\n",
    "# Instantiate RandomizedSearchCV with et , param_grid and random state=1\n",
    "\n",
    "rs = RandomizedSearchCV(et,param_grid,random_state=1)\n",
    "\n",
    "\n",
    "\n",
    "# Fit the random search to the training data\n",
    "rs.fit(X_train,y_train)\n",
    "\n",
    "\n",
    "# printing the optimal accuracy score and hyperparameters\n",
    "print(accuracy_score(y_test,predictions))\n"
   ]
  },
  {
   "cell_type": "markdown",
   "metadata": {
    "id": "zllHhUb1HWXv"
   },
   "source": [
    "Tuning ExtraTree Classifier"
   ]
  },
  {
   "cell_type": "code",
   "execution_count": 53,
   "metadata": {
    "colab": {
     "base_uri": "https://localhost:8080/"
    },
    "id": "fJa4ncJYHWXv",
    "outputId": "02734320-6726-4d02-c289-788069030134"
   },
   "outputs": [
    {
     "data": {
      "text/plain": [
       "ExtraTreesClassifier(random_state=1)"
      ]
     },
     "execution_count": 53,
     "metadata": {},
     "output_type": "execute_result"
    }
   ],
   "source": [
    "\n",
    "#Instantiate ExtraTreesClassifier with default parameters\n",
    "et =ExtraTreesClassifier(random_state=1) \n",
    "\n",
    "\n",
    "\n",
    "#fitting model on training data\n",
    "et.fit(X_train,y_train)\n",
    "\n",
    "\n",
    "\n"
   ]
  },
  {
   "cell_type": "code",
   "execution_count": 54,
   "metadata": {
    "id": "kFPvjzI6HWXv"
   },
   "outputs": [],
   "source": [
    "# Making predictions\n",
    "predictions =et.predict(X_test) \n",
    "\n"
   ]
  },
  {
   "cell_type": "code",
   "execution_count": 55,
   "metadata": {
    "colab": {
     "base_uri": "https://localhost:8080/"
    },
    "id": "4E_MPKyaHWXv",
    "outputId": "bdb5827c-cc1e-4d0e-905d-b772019a84e8"
   },
   "outputs": [
    {
     "name": "stdout",
     "output_type": "stream",
     "text": [
      "0.8136666666666666\n"
     ]
    }
   ],
   "source": [
    "#printing accuracy_score\n",
    "\n",
    "print(accuracy_score(y_test,predictions))\n",
    "\n",
    "\n"
   ]
  }
 ],
 "metadata": {
  "colab": {
   "collapsed_sections": [],
   "name": "Bagging_withoutcode (3).ipynb",
   "provenance": []
  },
  "kernelspec": {
   "display_name": "Python 3 (ipykernel)",
   "language": "python",
   "name": "python3"
  },
  "language_info": {
   "codemirror_mode": {
    "name": "ipython",
    "version": 3
   },
   "file_extension": ".py",
   "mimetype": "text/x-python",
   "name": "python",
   "nbconvert_exporter": "python",
   "pygments_lexer": "ipython3",
   "version": "3.9.12"
  },
  "latex_envs": {
   "LaTeX_envs_menu_present": true,
   "autoclose": false,
   "autocomplete": true,
   "bibliofile": "biblio.bib",
   "cite_by": "apalike",
   "current_citInitial": 1,
   "eqLabelWithNumbers": true,
   "eqNumInitial": 1,
   "hotkeys": {
    "equation": "Ctrl-E",
    "itemize": "Ctrl-I"
   },
   "labels_anchors": false,
   "latex_user_defs": false,
   "report_style_numbering": false,
   "user_envs_cfg": false
  }
 },
 "nbformat": 4,
 "nbformat_minor": 1
}
